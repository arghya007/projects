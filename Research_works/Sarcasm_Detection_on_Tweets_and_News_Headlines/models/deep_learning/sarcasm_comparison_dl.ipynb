{
 "cells": [
  {
   "cell_type": "markdown",
   "metadata": {},
   "source": [
    "# Import packages and Libraries"
   ]
  },
  {
   "cell_type": "code",
   "execution_count": null,
   "metadata": {
    "execution": {
     "iopub.execute_input": "2023-02-22T17:59:02.618144Z",
     "iopub.status.busy": "2023-02-22T17:59:02.617734Z",
     "iopub.status.idle": "2023-02-22T17:59:07.124023Z",
     "shell.execute_reply": "2023-02-22T17:59:07.123011Z",
     "shell.execute_reply.started": "2023-02-22T17:59:02.618063Z"
    }
   },
   "outputs": [],
   "source": [
    "import pandas as pd\n",
    "import numpy as np\n",
    "import pickle as pkl\n",
    "import time\n",
    "\n",
    "from sklearn.metrics import accuracy_score, confusion_matrix, cohen_kappa_score, precision_score, matthews_corrcoef, roc_auc_score, balanced_accuracy_score, recall_score, f1_score, make_scorer\n",
    "from sklearn.model_selection import StratifiedKFold\n",
    "\n",
    "import tensorflow as tf\n",
    "from tensorflow import keras\n",
    "from tensorflow.python.client import device_lib\n",
    "\n",
    "from tqdm import tqdm\n",
    "\n",
    "# ---- Call tqdm to see progress bar with pandas\n",
    "tqdm().pandas()\n",
    "\n",
    "import warnings\n",
    "warnings.filterwarnings('ignore')"
   ]
  },
  {
   "cell_type": "code",
   "execution_count": null,
   "metadata": {
    "execution": {
     "iopub.execute_input": "2023-02-22T17:59:07.127219Z",
     "iopub.status.busy": "2023-02-22T17:59:07.126161Z",
     "iopub.status.idle": "2023-02-22T17:59:07.136551Z",
     "shell.execute_reply": "2023-02-22T17:59:07.135597Z",
     "shell.execute_reply.started": "2023-02-22T17:59:07.127178Z"
    }
   },
   "outputs": [],
   "source": [
    "tf.__version__"
   ]
  },
  {
   "cell_type": "code",
   "execution_count": null,
   "metadata": {
    "execution": {
     "iopub.execute_input": "2023-02-22T17:59:07.138390Z",
     "iopub.status.busy": "2023-02-22T17:59:07.138022Z",
     "iopub.status.idle": "2023-02-22T17:59:07.295243Z",
     "shell.execute_reply": "2023-02-22T17:59:07.293949Z",
     "shell.execute_reply.started": "2023-02-22T17:59:07.138354Z"
    }
   },
   "outputs": [],
   "source": [
    "gpus = tf.config.experimental.list_physical_devices('GPU')\n",
    "for gpu in gpus:\n",
    "    print(\"Name:\", gpu.name, \"  Type:\", gpu.device_type)"
   ]
  },
  {
   "cell_type": "code",
   "execution_count": null,
   "metadata": {
    "execution": {
     "iopub.execute_input": "2023-02-22T17:59:07.300397Z",
     "iopub.status.busy": "2023-02-22T17:59:07.300058Z",
     "iopub.status.idle": "2023-02-22T17:59:09.455112Z",
     "shell.execute_reply": "2023-02-22T17:59:09.453791Z",
     "shell.execute_reply.started": "2023-02-22T17:59:07.300370Z"
    }
   },
   "outputs": [],
   "source": [
    "device_lib.list_local_devices()"
   ]
  },
  {
   "cell_type": "code",
   "execution_count": null,
   "metadata": {
    "execution": {
     "iopub.execute_input": "2023-02-22T17:59:09.457045Z",
     "iopub.status.busy": "2023-02-22T17:59:09.456649Z",
     "iopub.status.idle": "2023-02-22T17:59:09.465657Z",
     "shell.execute_reply": "2023-02-22T17:59:09.464651Z",
     "shell.execute_reply.started": "2023-02-22T17:59:09.457009Z"
    }
   },
   "outputs": [],
   "source": [
    "# List of paramters for the notebook, choose option like and model to run\n",
    "save_results           = True\n",
    "lang                   = False\n",
    "sample                 = False\n",
    "multinomial_naive_bayes= True\n",
    "logistic_regression    = True\n",
    "svm_model              = True\n",
    "k_nn_model             = True\n",
    "sgd                    = True\n",
    "random_forest          = True\n",
    "gradient_boosting      = True\n",
    "xgboost_classifier     = True\n",
    "shallow_network        = True\n",
    "deep_nn                = True\n",
    "rnn                    = True\n",
    "lstm                   = True\n",
    "cnn                    = True\n",
    "gru                    = True\n",
    "cnn_lstm               = True\n",
    "cnn_gru                = True\n",
    "bidirectional_rnn      = True\n",
    "bidirectional_lstm     = True\n",
    "bidirectional_gru      = True\n",
    "rcnn                   = True\n",
    "pre_trained            = True"
   ]
  },
  {
   "cell_type": "markdown",
   "metadata": {},
   "source": [
    "# Import Data"
   ]
  },
  {
   "cell_type": "code",
   "execution_count": null,
   "metadata": {
    "execution": {
     "iopub.execute_input": "2023-02-22T17:59:09.468101Z",
     "iopub.status.busy": "2023-02-22T17:59:09.467394Z",
     "iopub.status.idle": "2023-02-22T17:59:11.055337Z",
     "shell.execute_reply": "2023-02-22T17:59:11.054293Z",
     "shell.execute_reply.started": "2023-02-22T17:59:09.468066Z"
    }
   },
   "outputs": [],
   "source": [
    "tweet_x_y = {}\n",
    "news_x_y = {}\n",
    "\n",
    "with open('/kaggle/input/sarcasm-preprocessed/tweet_x_values.pkl', 'rb') as f:\n",
    "    tweet_x_y.update({\"xtrain_count\" : pkl.load(f)})\n",
    "    tweet_x_y.update({\"xtrain_tfidf\" : pkl.load(f)})\n",
    "    tweet_x_y.update({\"xtrain_tfidf_ngram\" : pkl.load(f)})\n",
    "    tweet_x_y.update({\"xtrain_tfidf_ngram_chars\" : pkl.load(f)})\n",
    "    tweet_x_y.update({\"train_seq_x\" : pkl.load(f)})\n",
    "    tweet_x_y.update({\"xvalid_count\" : pkl.load(f)})\n",
    "    tweet_x_y.update({\"xvalid_tfidf\" : pkl.load(f)})\n",
    "    tweet_x_y.update({\"xvalid_tfidf_ngram\" : pkl.load(f)})\n",
    "    tweet_x_y.update({\"xvalid_tfidf_ngram_chars\" : pkl.load(f)})\n",
    "    tweet_x_y.update({\"valid_seq_x\" : pkl.load(f)})\n",
    "    \n",
    "with open('/kaggle/input/sarcasm-preprocessed/tweet_y_values.pkl', 'rb') as f:\n",
    "    tweet_x_y.update({\"train_y_sw\" : pkl.load(f)})\n",
    "    tweet_x_y.update({\"train_y\" : pkl.load(f)})\n",
    "    tweet_x_y.update({\"valid_y_sw\" : pkl.load(f)})\n",
    "    tweet_x_y.update({\"valid_y\" : pkl.load(f)})\n",
    "    \n",
    "with open('/kaggle/input/sarcasm-preprocessed/tweet_word_index_labels_weights.pkl', 'rb') as f:\n",
    "    tweet_x_y.update({\"word_index\" : pkl.load(f)})\n",
    "    tweet_x_y.update({\"labels\" : pkl.load(f)})\n",
    "    tweet_x_y.update({\"class_weights\" : pkl.load(f)})\n",
    "    \n",
    "with open('/kaggle/input/sarcasm-preprocessed/tweet_embedding_matrix.pkl', 'rb') as f:\n",
    "    tweet_x_y.update({\"embedding_matrix\" : pkl.load(f)})\n",
    "    \n",
    "with open('/kaggle/input/sarcasm-preprocessed/news_x_values.pkl', 'rb') as f:\n",
    "    news_x_y.update({\"xtrain_count\" : pkl.load(f)})\n",
    "    news_x_y.update({\"xtrain_tfidf\" : pkl.load(f)})\n",
    "    news_x_y.update({\"xtrain_tfidf_ngram\" : pkl.load(f)})\n",
    "    news_x_y.update({\"xtrain_tfidf_ngram_chars\" : pkl.load(f)})\n",
    "    news_x_y.update({\"train_seq_x\" : pkl.load(f)})\n",
    "    news_x_y.update({\"xvalid_count\" : pkl.load(f)})\n",
    "    news_x_y.update({\"xvalid_tfidf\" : pkl.load(f)})\n",
    "    news_x_y.update({\"xvalid_tfidf_ngram\" : pkl.load(f)})\n",
    "    news_x_y.update({\"xvalid_tfidf_ngram_chars\" : pkl.load(f)})\n",
    "    news_x_y.update({\"valid_seq_x\" : pkl.load(f)})\n",
    "    \n",
    "with open('/kaggle/input/sarcasm-preprocessed/news_y_values.pkl', 'rb') as f:\n",
    "    news_x_y.update({\"train_y_sw\" : pkl.load(f)})\n",
    "    news_x_y.update({\"train_y\" : pkl.load(f)})\n",
    "    news_x_y.update({\"valid_y_sw\" : pkl.load(f)})\n",
    "    news_x_y.update({\"valid_y\" : pkl.load(f)})\n",
    "\n",
    "with open('/kaggle/input/sarcasm-preprocessed/news_word_index_labels_weights.pkl', 'rb') as f:\n",
    "    news_x_y.update({\"word_index\" : pkl.load(f)})\n",
    "    news_x_y.update({\"labels\" : pkl.load(f)})\n",
    "    news_x_y.update({\"class_weights\" : pkl.load(f)})\n",
    "    \n",
    "with open('/kaggle/input/sarcasm-preprocessed/news_embedding_matrix.pkl', 'rb') as f:\n",
    "    news_x_y.update({\"embedding_matrix\" : pkl.load(f)})"
   ]
  },
  {
   "cell_type": "markdown",
   "metadata": {},
   "source": [
    "# Functions and Data Structures "
   ]
  },
  {
   "cell_type": "code",
   "execution_count": null,
   "metadata": {
    "execution": {
     "iopub.execute_input": "2023-02-22T17:59:11.056967Z",
     "iopub.status.busy": "2023-02-22T17:59:11.056621Z",
     "iopub.status.idle": "2023-02-22T17:59:11.066447Z",
     "shell.execute_reply": "2023-02-22T17:59:11.065217Z",
     "shell.execute_reply.started": "2023-02-22T17:59:11.056932Z"
    }
   },
   "outputs": [],
   "source": [
    "tweet_results = pd.DataFrame()\n",
    "news_results = pd.DataFrame()"
   ]
  },
  {
   "cell_type": "code",
   "execution_count": null,
   "metadata": {
    "execution": {
     "iopub.execute_input": "2023-02-22T17:59:11.068741Z",
     "iopub.status.busy": "2023-02-22T17:59:11.068247Z",
     "iopub.status.idle": "2023-02-22T17:59:11.078134Z",
     "shell.execute_reply": "2023-02-22T17:59:11.077111Z",
     "shell.execute_reply.started": "2023-02-22T17:59:11.068705Z"
    }
   },
   "outputs": [],
   "source": [
    "def report(clf, x, y, name='classifier', cv=5, dict_scoring=None, fit_params=None):\n",
    "    #print(dict_scoring)\n",
    "    if dict_scoring!=None:\n",
    "        score = dict_scoring.copy()\n",
    "        for i in score.keys():\n",
    "            score[i] = make_scorer(score[i])\n",
    "    \n",
    "    scores = cross_validate(clf, x, y, scoring=score,\n",
    "                         cv=cv, return_train_score=False, n_jobs=-1,  fit_params=fit_params)\n",
    "    \n",
    "    index = []\n",
    "    value = []\n",
    "    index.append(\"Model\")\n",
    "    value.append(name)\n",
    "    for i in scores:\n",
    "        if i == \"estimator\":\n",
    "            continue\n",
    "        for j in enumerate(scores[i]):\n",
    "            index.append(i+\"_cv\"+str(j[0]+1))\n",
    "            value.append(j[1])\n",
    "        #if any(x in i for x in scoring.keys()):\n",
    "        \n",
    "        index.append(i+\"_mean\")\n",
    "        value.append(np.mean(scores[i]))\n",
    "        index.append(i+\"_std\")\n",
    "        value.append(np.std(scores[i]))\n",
    "        \n",
    "    return pd.DataFrame(data=value, index=index).T"
   ]
  },
  {
   "cell_type": "code",
   "execution_count": null,
   "metadata": {
    "execution": {
     "iopub.execute_input": "2023-02-22T17:59:11.080405Z",
     "iopub.status.busy": "2023-02-22T17:59:11.079964Z",
     "iopub.status.idle": "2023-02-22T17:59:11.088880Z",
     "shell.execute_reply": "2023-02-22T17:59:11.087876Z",
     "shell.execute_reply.started": "2023-02-22T17:59:11.080370Z"
    }
   },
   "outputs": [],
   "source": [
    "def tn(y_true, y_pred): return confusion_matrix(y_true, y_pred)[0, 0]\n",
    "def fp(y_true, y_pred): return confusion_matrix(y_true, y_pred)[0, 1]\n",
    "def fn(y_true, y_pred): return confusion_matrix(y_true, y_pred)[1, 0]\n",
    "def tp(y_true, y_pred): return confusion_matrix(y_true, y_pred)[1, 1]\n",
    "\n",
    "score_metrics = {'acc': accuracy_score,\n",
    "               'balanced_accuracy': balanced_accuracy_score,\n",
    "               'prec': precision_score,\n",
    "               'recall': recall_score,\n",
    "               'f1-score': f1_score,\n",
    "               'tp': tp, 'tn': tn,\n",
    "               'fp': fp, 'fn': fn,\n",
    "               'cohens_kappa':cohen_kappa_score,\n",
    "               'matthews_corrcoef':matthews_corrcoef,\n",
    "               \"roc_auc\":roc_auc_score}"
   ]
  },
  {
   "cell_type": "code",
   "execution_count": null,
   "metadata": {
    "execution": {
     "iopub.execute_input": "2023-02-22T17:59:11.093675Z",
     "iopub.status.busy": "2023-02-22T17:59:11.093354Z",
     "iopub.status.idle": "2023-02-22T17:59:12.072396Z",
     "shell.execute_reply": "2023-02-22T17:59:12.071344Z",
     "shell.execute_reply.started": "2023-02-22T17:59:11.093649Z"
    }
   },
   "outputs": [],
   "source": [
    "es = tf.keras.callbacks.EarlyStopping(monitor='loss', mode='auto', patience=3)\n",
    "check_p = tf.keras.callbacks.ModelCheckpoint(\"save_models/model.h5\", save_best_only=True)"
   ]
  },
  {
   "cell_type": "code",
   "execution_count": null,
   "metadata": {
    "execution": {
     "iopub.execute_input": "2023-02-22T17:59:39.091599Z",
     "iopub.status.busy": "2023-02-22T17:59:39.091280Z",
     "iopub.status.idle": "2023-02-22T17:59:39.109173Z",
     "shell.execute_reply": "2023-02-22T17:59:39.108129Z",
     "shell.execute_reply.started": "2023-02-22T17:59:39.091562Z"
    }
   },
   "outputs": [],
   "source": [
    "def cross_validate_NN(model, X, y, X_test, y_test, callbacks,name=\"NN\", fit_params=None, scoring=None, n_splits=5):\n",
    "    #print(model.__class__.__name__)\n",
    "    # ---- Parameters initialisation\n",
    "    seed = 42\n",
    "    k = 1\n",
    "    np.random.seed(seed)\n",
    "    kfold = StratifiedKFold(n_splits=n_splits, shuffle=True, random_state=seed)\n",
    "    \n",
    "    # Creation of list for each metric\n",
    "    if scoring==None:\n",
    "        dic_scoring = {}\n",
    "    if scoring!=None:\n",
    "        dic_score = scoring.copy()\n",
    "        \n",
    "    dic_score[\"fit_time\"] = None\n",
    "    dic_score[\"score_time\"] = None\n",
    "    scorer = {}\n",
    "    for i in dic_score.keys(): \n",
    "        scorer[i] = []\n",
    "        \n",
    "    \n",
    "    index = [\"Model\"]\n",
    "    results = [name]\n",
    "    # ---- Loop on k-fold for cross-valisation\n",
    "    for train, test in kfold.split(X, y):\n",
    "        # create model\n",
    "        print(f\"k-fold : {k}\")\n",
    "        fit_start = time.time()\n",
    "        _model = model\n",
    "        with tf.device('/GPU:0'):\n",
    "            _model.fit(X[train], y[train],\n",
    "                            epochs=1000, callbacks=[callbacks],\n",
    "                            validation_split=0.2, verbose=False)\n",
    "        \n",
    "        fit_end = time.time() - fit_start\n",
    "\n",
    "        _acc = _model.evaluate(X_test, y_test, verbose=0)\n",
    "\n",
    "        score_start = time.time()\n",
    "        y_pred = (model.predict(X_test)>0.5).astype(int)\n",
    "        score_end = time.time() - score_start\n",
    "\n",
    "        # ---- save each metric\n",
    "        for i in dic_score.keys():\n",
    "            if i == \"fit_time\":\n",
    "                scorer[i].append(fit_end)\n",
    "                index.append(i+'_cv'+str(k))\n",
    "                results.append(fit_end)\n",
    "                continue\n",
    "            if i == \"score_time\":\n",
    "                scorer[i].append(score_end)\n",
    "                index.append(i+'_cv'+str(k))\n",
    "                results.append(score_end)\n",
    "                continue\n",
    "                \n",
    "            scorer[i].append(dic_score[i](y_test, y_pred))\n",
    "            index.append(\"test_\"+i+'_cv'+str(k))\n",
    "            results.append(scorer[i][-1])\n",
    "                \n",
    "        \n",
    "        k+=1\n",
    "        \n",
    "    # Compute mean and std for each metric\n",
    "    for i in scorer:\n",
    "        \n",
    "        results.append(np.mean(scorer[i]))\n",
    "        results.append(np.std(scorer[i]))\n",
    "        if i == \"fit_time\":\n",
    "            index.append(i+\"_mean\")\n",
    "            index.append(i+\"_std\")\n",
    "            continue\n",
    "        if i == \"score_time\":\n",
    "            index.append(i+\"_mean\")\n",
    "            index.append(i+\"_std\")\n",
    "            continue\n",
    "        \n",
    "        index.append(\"test_\"+i+\"_mean\")\n",
    "        index.append(\"test_\"+i+\"_std\")\n",
    "        \n",
    "    \n",
    "    \n",
    "    return pd.DataFrame(results, index=index).T"
   ]
  },
  {
   "cell_type": "markdown",
   "metadata": {},
   "source": [
    "# Deep Learning Models"
   ]
  },
  {
   "cell_type": "markdown",
   "metadata": {},
   "source": [
    "### Shallow Neural Networks "
   ]
  },
  {
   "cell_type": "code",
   "execution_count": null,
   "metadata": {
    "execution": {
     "iopub.execute_input": "2023-02-22T18:00:20.252064Z",
     "iopub.status.busy": "2023-02-22T18:00:20.251689Z",
     "iopub.status.idle": "2023-02-22T18:00:20.260951Z",
     "shell.execute_reply": "2023-02-22T18:00:20.259901Z",
     "shell.execute_reply.started": "2023-02-22T18:00:20.252032Z"
    }
   },
   "outputs": [],
   "source": [
    "def shallow_neural_networks(word_index, label, embedding_matrix, pre_trained=False):\n",
    "    if pre_trained==False:\n",
    "        embedded = keras.layers.Embedding(len(word_index) + 1, 16)\n",
    "    else:\n",
    "        embedded = keras.layers.Embedding(len(word_index) + 1, 300, weights=[embedding_matrix], trainable=False)\n",
    "    \n",
    "    model = keras.Sequential([\n",
    "      embedded,\n",
    "      keras.layers.GlobalAveragePooling1D(),\n",
    "      \n",
    "      keras.layers.Dense(1 if len(label)<=2 else len(label), activation='sigmoid' if len(label)<=2 else \"softmax\")])\n",
    "\n",
    "    if len(label)==2:\n",
    "        model.compile(optimizer='adam',\n",
    "              loss=tf.losses.BinaryCrossentropy(from_logits=True),\n",
    "              metrics=['accuracy'])\n",
    "    else: \n",
    "        model.compile(optimizer='adam',\n",
    "              loss=tf.losses.SparseCategoricalCrossentropy(from_logits=True),\n",
    "              metrics=['accuracy'])\n",
    "    #print(model.summary())\n",
    "    \n",
    "    return model"
   ]
  },
  {
   "cell_type": "code",
   "execution_count": null,
   "metadata": {
    "execution": {
     "iopub.execute_input": "2023-02-22T18:00:20.266461Z",
     "iopub.status.busy": "2023-02-22T18:00:20.265658Z",
     "iopub.status.idle": "2023-02-22T18:02:32.544240Z",
     "shell.execute_reply": "2023-02-22T18:02:32.543230Z",
     "shell.execute_reply.started": "2023-02-22T18:00:20.266419Z"
    }
   },
   "outputs": [],
   "source": [
    "%%time\n",
    "if shallow_network:\n",
    "    tweet_results = tweet_results.append(cross_validate_NN(shallow_neural_networks(tweet_x_y['word_index'], label=tweet_x_y['labels'], embedding_matrix=tweet_x_y['embedding_matrix'], pre_trained=pre_trained), tweet_x_y['train_seq_x'],tweet_x_y['train_y'], tweet_x_y['valid_seq_x'],tweet_x_y['valid_y'], es, name=\"Shallow_NN_WE\", scoring=score_metrics, n_splits=5))"
   ]
  },
  {
   "cell_type": "code",
   "execution_count": null,
   "metadata": {
    "execution": {
     "iopub.execute_input": "2023-02-22T18:02:32.546648Z",
     "iopub.status.busy": "2023-02-22T18:02:32.546174Z",
     "iopub.status.idle": "2023-02-22T18:20:25.847300Z",
     "shell.execute_reply": "2023-02-22T18:20:25.846464Z",
     "shell.execute_reply.started": "2023-02-22T18:02:32.546611Z"
    }
   },
   "outputs": [],
   "source": [
    "%%time\n",
    "if shallow_network:\n",
    "    news_results = news_results.append(cross_validate_NN(shallow_neural_networks(news_x_y['word_index'], label=news_x_y['labels'], embedding_matrix=news_x_y['embedding_matrix'], pre_trained=pre_trained), news_x_y['train_seq_x'],news_x_y['train_y'], news_x_y['valid_seq_x'],news_x_y['valid_y'], es, name=\"Shallow_NN_WE\", scoring=score_metrics, n_splits=5))"
   ]
  },
  {
   "cell_type": "markdown",
   "metadata": {},
   "source": [
    "### Deep Neural Networks"
   ]
  },
  {
   "cell_type": "code",
   "execution_count": null,
   "metadata": {
    "execution": {
     "iopub.execute_input": "2023-02-22T18:20:25.849144Z",
     "iopub.status.busy": "2023-02-22T18:20:25.848693Z",
     "iopub.status.idle": "2023-02-22T18:21:22.774479Z",
     "shell.execute_reply": "2023-02-22T18:20:25.872027Z",
     "shell.execute_reply.started": "2023-02-22T18:20:25.849107Z"
    }
   },
   "outputs": [],
   "source": [
    "def deep_neural_networks(word_index, label, embedding_matrix, pre_trained=False):\n",
    "    if pre_trained==False:\n",
    "        embedded = keras.layers.Embedding(len(word_index) + 1, 50)\n",
    "    else:\n",
    "        embedded = keras.layers.Embedding(len(word_index) + 1, 300, weights=[embedding_matrix], trainable=False)\n",
    "    \n",
    "    model = keras.Sequential([\n",
    "      embedded,\n",
    "      keras.layers.GlobalAveragePooling1D(),\n",
    "      keras.layers.Dense(16, activation='relu'),\n",
    "      keras.layers.Dense(1 if len(label)<=2 else len(label), activation='sigmoid' if len(label)<=2 else \"softmax\")])\n",
    "\n",
    "    if len(label)==2:\n",
    "        model.compile(optimizer='adam',\n",
    "              loss=tf.losses.BinaryCrossentropy(from_logits=True),\n",
    "              metrics=['accuracy'])\n",
    "    else: \n",
    "        model.compile(optimizer='adam',\n",
    "              loss=tf.losses.SparseCategoricalCrossentropy(from_logits=True),\n",
    "              metrics=['accuracy'])\n",
    "    #print(model.summary())\n",
    "    \n",
    "    return model"
   ]
  },
  {
   "cell_type": "code",
   "execution_count": null,
   "metadata": {
    "execution": {
     "iopub.status.busy": "2023-02-22T18:21:22.775910Z",
     "iopub.status.idle": "2023-02-22T18:21:22.776753Z",
     "shell.execute_reply": "2023-02-22T18:21:22.776478Z",
     "shell.execute_reply.started": "2023-02-22T18:21:22.776451Z"
    }
   },
   "outputs": [],
   "source": [
    "%%time\n",
    "if deep_nn:\n",
    "    tweet_results = tweet_results.append(cross_validate_NN(deep_neural_networks(tweet_x_y['word_index'], label=tweet_x_y['labels'], embedding_matrix=tweet_x_y['embedding_matrix'], pre_trained=pre_trained), tweet_x_y['train_seq_x'],tweet_x_y['train_y'], tweet_x_y['valid_seq_x'],tweet_x_y['valid_y'], es, name=\"Deep_NN_WE\", scoring=score_metrics, n_splits=5))"
   ]
  },
  {
   "cell_type": "code",
   "execution_count": null,
   "metadata": {
    "execution": {
     "iopub.status.busy": "2023-02-22T18:21:22.778490Z",
     "iopub.status.idle": "2023-02-22T18:21:22.779004Z",
     "shell.execute_reply": "2023-02-22T18:21:22.778777Z",
     "shell.execute_reply.started": "2023-02-22T18:21:22.778753Z"
    }
   },
   "outputs": [],
   "source": [
    "%%time\n",
    "if deep_nn:\n",
    "    news_results = news_results.append(cross_validate_NN(deep_neural_networks(news_x_y['word_index'], label=news_x_y['labels'], embedding_matrix=news_x_y['embedding_matrix'], pre_trained=pre_trained), news_x_y['train_seq_x'],news_x_y['train_y'], news_x_y['valid_seq_x'],news_x_y['valid_y'], es, name=\"Deep_NN_WE\", scoring=score_metrics, n_splits=5))"
   ]
  },
  {
   "cell_type": "code",
   "execution_count": null,
   "metadata": {
    "execution": {
     "iopub.status.busy": "2023-02-22T18:21:22.780672Z",
     "iopub.status.idle": "2023-02-22T18:21:22.781140Z",
     "shell.execute_reply": "2023-02-22T18:21:22.780925Z",
     "shell.execute_reply.started": "2023-02-22T18:21:22.780901Z"
    }
   },
   "outputs": [],
   "source": [
    "def deep_neural_networks_var1(word_index, label, embedding_matrix, pre_trained=False):\n",
    "    if pre_trained==False:\n",
    "        embedded = keras.layers.Embedding(len(word_index) + 1, 100)\n",
    "    else:\n",
    "        embedded = keras.layers.Embedding(len(word_index) + 1, 300, weights=[embedding_matrix], trainable=False)\n",
    "    \n",
    "    model = keras.Sequential([\n",
    "      embedded,\n",
    "      keras.layers.GlobalAveragePooling1D(),\n",
    "      keras.layers.Dense(16, activation='relu'),\n",
    "      keras.layers.Dense(16, activation='relu'),\n",
    "      keras.layers.Dense(1  if len(label)<=2 else len(label), activation='sigmoid' if len(label)<=2 else \"softmax\")])\n",
    "\n",
    "    if len(label)==2:\n",
    "        model.compile(optimizer='adam',\n",
    "              loss=tf.losses.BinaryCrossentropy(from_logits=True),\n",
    "              metrics=['accuracy'])\n",
    "    else: \n",
    "        model.compile(optimizer='adam',\n",
    "              loss=tf.losses.SparseCategoricalCrossentropy(from_logits=True),\n",
    "              metrics=['accuracy'])\n",
    "    #print(model.summary())\n",
    "    \n",
    "    return model"
   ]
  },
  {
   "cell_type": "code",
   "execution_count": null,
   "metadata": {
    "execution": {
     "iopub.status.busy": "2023-02-22T18:21:22.782844Z",
     "iopub.status.idle": "2023-02-22T18:21:22.783311Z",
     "shell.execute_reply": "2023-02-22T18:21:22.783089Z",
     "shell.execute_reply.started": "2023-02-22T18:21:22.783067Z"
    }
   },
   "outputs": [],
   "source": [
    "%%time\n",
    "if deep_nn:\n",
    "    tweet_results = tweet_results.append(cross_validate_NN(deep_neural_networks_var1(tweet_x_y['word_index'], label=tweet_x_y['labels'], embedding_matrix=tweet_x_y['embedding_matrix'], pre_trained=pre_trained), tweet_x_y['train_seq_x'],tweet_x_y['train_y'], tweet_x_y['valid_seq_x'],tweet_x_y['valid_y'], es, name=\"Deep_NN_var1_WE\", scoring=score_metrics, n_splits=5))"
   ]
  },
  {
   "cell_type": "code",
   "execution_count": null,
   "metadata": {
    "execution": {
     "iopub.status.busy": "2023-02-22T18:21:22.785142Z",
     "iopub.status.idle": "2023-02-22T18:21:22.785632Z",
     "shell.execute_reply": "2023-02-22T18:21:22.785393Z",
     "shell.execute_reply.started": "2023-02-22T18:21:22.785371Z"
    }
   },
   "outputs": [],
   "source": [
    "%%time\n",
    "if deep_nn:\n",
    "    news_results = news_results.append(cross_validate_NN(deep_neural_networks_var1(news_x_y['word_index'], label=news_x_y['labels'], embedding_matrix=news_x_y['embedding_matrix'], pre_trained=pre_trained), news_x_y['train_seq_x'],news_x_y['train_y'], news_x_y['valid_seq_x'],news_x_y['valid_y'], es, name=\"Deep_NN_var1_WE\", scoring=score_metrics, n_splits=5))"
   ]
  },
  {
   "cell_type": "code",
   "execution_count": null,
   "metadata": {
    "execution": {
     "iopub.status.busy": "2023-02-22T18:21:22.787465Z",
     "iopub.status.idle": "2023-02-22T18:21:22.787943Z",
     "shell.execute_reply": "2023-02-22T18:21:22.787724Z",
     "shell.execute_reply.started": "2023-02-22T18:21:22.787702Z"
    }
   },
   "outputs": [],
   "source": [
    "def deep_neural_networks_var2(word_index, label, embedding_matrix, pre_trained=False):\n",
    "    if pre_trained==False:\n",
    "        embedded = keras.layers.Embedding(len(word_index) + 1, 100)\n",
    "    else:\n",
    "        embedded = keras.layers.Embedding(len(word_index) + 1, 300, weights=[embedding_matrix], trainable=False)\n",
    "    \n",
    "    model = keras.Sequential([\n",
    "      embedded,\n",
    "      keras.layers.GlobalAveragePooling1D(),\n",
    "      keras.layers.Dense(32, activation='relu'),\n",
    "      keras.layers.Dense(16, activation='relu'),\n",
    "      keras.layers.Dense(1  if len(label)<=2 else len(label), activation='sigmoid' if len(label)<=2 else \"softmax\")])\n",
    "\n",
    "    if len(label)==2:\n",
    "        model.compile(optimizer='adam',\n",
    "              loss=tf.losses.BinaryCrossentropy(from_logits=True),\n",
    "              metrics=['accuracy'])\n",
    "    else: \n",
    "        model.compile(optimizer='adam',\n",
    "              loss=tf.losses.SparseCategoricalCrossentropy(from_logits=True),\n",
    "              metrics=['accuracy'])\n",
    "    #print(model.summary())\n",
    "    \n",
    "    return model\n"
   ]
  },
  {
   "cell_type": "code",
   "execution_count": null,
   "metadata": {
    "execution": {
     "iopub.status.busy": "2023-02-22T18:21:22.789784Z",
     "iopub.status.idle": "2023-02-22T18:21:22.790244Z",
     "shell.execute_reply": "2023-02-22T18:21:22.790028Z",
     "shell.execute_reply.started": "2023-02-22T18:21:22.790006Z"
    }
   },
   "outputs": [],
   "source": [
    "%%time\n",
    "if deep_nn:\n",
    "    tweet_results = tweet_results.append(cross_validate_NN(deep_neural_networks_var2(tweet_x_y['word_index'], label=tweet_x_y['labels'], embedding_matrix=tweet_x_y['embedding_matrix'], pre_trained=pre_trained), tweet_x_y['train_seq_x'],tweet_x_y['train_y'], tweet_x_y['valid_seq_x'],tweet_x_y['valid_y'], es, name=\"Deep_NN_var2_WE\", scoring=score_metrics, n_splits=5))"
   ]
  },
  {
   "cell_type": "code",
   "execution_count": null,
   "metadata": {
    "execution": {
     "iopub.status.busy": "2023-02-22T18:21:22.791698Z",
     "iopub.status.idle": "2023-02-22T18:21:22.792618Z",
     "shell.execute_reply": "2023-02-22T18:21:22.792369Z",
     "shell.execute_reply.started": "2023-02-22T18:21:22.792335Z"
    }
   },
   "outputs": [],
   "source": [
    "%%time\n",
    "if deep_nn:\n",
    "    news_results = news_results.append(cross_validate_NN(deep_neural_networks_var2(news_x_y['word_index'], label=news_x_y['labels'], embedding_matrix=news_x_y['embedding_matrix'], pre_trained=pre_trained), news_x_y['train_seq_x'],news_x_y['train_y'], news_x_y['valid_seq_x'],news_x_y['valid_y'], es, name=\"Deep_NN_var2_WE\", scoring=score_metrics, n_splits=5))"
   ]
  },
  {
   "cell_type": "markdown",
   "metadata": {},
   "source": [
    "### Convolutional Neural Network"
   ]
  },
  {
   "cell_type": "code",
   "execution_count": null,
   "metadata": {
    "execution": {
     "iopub.status.busy": "2023-02-22T18:21:22.801113Z",
     "iopub.status.idle": "2023-02-22T18:21:22.801620Z",
     "shell.execute_reply": "2023-02-22T18:21:22.801386Z",
     "shell.execute_reply.started": "2023-02-22T18:21:22.801362Z"
    }
   },
   "outputs": [],
   "source": [
    "def create_conv_model(word_index, label, embedding_matrix, pre_trained=False):\n",
    "    if pre_trained==False:\n",
    "        embedded = keras.layers.Embedding(len(word_index) +1, 100)\n",
    "    else:\n",
    "        embedded = keras.layers.Embedding(len(word_index) + 1, 300, weights=[embedding_matrix], trainable=False)\n",
    "    \n",
    "    model = keras.Sequential([\n",
    "    embedded,\n",
    "    keras.layers.Conv1D(100, 5, activation='relu'), # padding='same'\n",
    "    keras.layers.Dropout(0.2),\n",
    "    keras.layers.MaxPooling1D(pool_size=4),\n",
    "    keras.layers.Conv1D(64, 5, activation='relu'),\n",
    "    keras.layers.Dropout(0.2),\n",
    "    keras.layers.MaxPooling1D(pool_size=4),\n",
    "    keras.layers.Conv1D(32, 5, activation='relu'),\n",
    "    keras.layers.Dropout(0.2),\n",
    "    keras.layers.GlobalMaxPooling1D(),\n",
    "\n",
    "    keras.layers.Dense(1 if len(label)<=2 else len(label), activation='sigmoid' if len(label)<=2 else \"softmax\")])\n",
    "\n",
    "    if len(label)==2:\n",
    "        model.compile(optimizer=tf.keras.optimizers.RMSprop(lr=1e-4),\n",
    "              loss=tf.losses.BinaryCrossentropy(from_logits=True),\n",
    "              metrics=['accuracy'])\n",
    "    else: \n",
    "        model.compile(optimizer='adam',\n",
    "              loss=tf.losses.SparseCategoricalCrossentropy(from_logits=True),\n",
    "              metrics=['accuracy'])\n",
    "    #print(model.summary())\n",
    "    \n",
    "    return model"
   ]
  },
  {
   "cell_type": "code",
   "execution_count": null,
   "metadata": {
    "execution": {
     "iopub.status.busy": "2023-02-22T18:21:22.803430Z",
     "iopub.status.idle": "2023-02-22T18:21:22.803905Z",
     "shell.execute_reply": "2023-02-22T18:21:22.803687Z",
     "shell.execute_reply.started": "2023-02-22T18:21:22.803663Z"
    }
   },
   "outputs": [],
   "source": [
    "%%time\n",
    "if cnn:\n",
    "    tweet_results = tweet_results.append(cross_validate_NN(create_rnn_model(tweet_x_y['word_index'], label=tweet_x_y['labels'], embedding_matrix=tweet_x_y['embedding_matrix'], pre_trained=pre_trained), tweet_x_y['train_seq_x'],tweet_x_y['train_y'], tweet_x_y['valid_seq_x'],tweet_x_y['valid_y'], es, name=\"CNN_WE\", scoring=score_metrics, n_splits=5))"
   ]
  },
  {
   "cell_type": "code",
   "execution_count": null,
   "metadata": {
    "execution": {
     "iopub.status.busy": "2023-02-22T18:21:22.805785Z",
     "iopub.status.idle": "2023-02-22T18:21:22.806246Z",
     "shell.execute_reply": "2023-02-22T18:21:22.806032Z",
     "shell.execute_reply.started": "2023-02-22T18:21:22.806009Z"
    }
   },
   "outputs": [],
   "source": [
    "%%time\n",
    "if cnn:\n",
    "    news_results = news_results.append(cross_validate_NN(create_rnn_model(news_x_y['word_index'], label=news_x_y['labels'], embedding_matrix=news_x_y['embedding_matrix'], pre_trained=pre_trained), news_x_y['train_seq_x'],news_x_y['train_y'], news_x_y['valid_seq_x'],news_x_y['valid_y'], es, name=\"CNN_WE\", scoring=score_metrics, n_splits=5))"
   ]
  },
  {
   "cell_type": "markdown",
   "metadata": {},
   "source": [
    "### Recurrent Neural Network"
   ]
  },
  {
   "cell_type": "code",
   "execution_count": null,
   "metadata": {
    "execution": {
     "iopub.status.busy": "2023-02-22T18:21:22.794158Z",
     "iopub.status.idle": "2023-02-22T18:21:22.794649Z",
     "shell.execute_reply": "2023-02-22T18:21:22.794413Z",
     "shell.execute_reply.started": "2023-02-22T18:21:22.794391Z"
    }
   },
   "outputs": [],
   "source": [
    "def create_rnn_model(word_index, label, embedding_matrix, pre_trained=False):\n",
    "    if pre_trained==False:\n",
    "        embedded = keras.layers.Embedding(len(word_index) + 1, 100)\n",
    "    else:\n",
    "        embedded = keras.layers.Embedding(len(word_index) + 1, 300, weights=[embedding_matrix], trainable=False)\n",
    "    \n",
    "    model = keras.Sequential([\n",
    "    embedded,\n",
    "    keras.layers.SimpleRNN(40, return_sequences=True),\n",
    "    keras.layers.SimpleRNN(40, return_sequences=True),\n",
    "    keras.layers.SimpleRNN(40, return_sequences=True),\n",
    "    keras.layers.SimpleRNN(40),\n",
    "    keras.layers.Dense(1 if len(label)<=2 else len(label), activation='sigmoid' if len(label)<=2 else \"softmax\")])\n",
    "\n",
    "    if len(label)==2:\n",
    "        model.compile(optimizer=tf.keras.optimizers.RMSprop(lr=1e-4),\n",
    "              loss=tf.losses.BinaryCrossentropy(from_logits=True),\n",
    "              metrics=['accuracy'])\n",
    "    else: \n",
    "        model.compile(optimizer='adam',\n",
    "              loss=tf.losses.SparseCategoricalCrossentropy(from_logits=True),\n",
    "              metrics=['accuracy'])\n",
    "    #print(model.summary())\n",
    "    \n",
    "    return model"
   ]
  },
  {
   "cell_type": "code",
   "execution_count": null,
   "metadata": {
    "execution": {
     "iopub.status.busy": "2023-02-22T18:21:22.796188Z",
     "iopub.status.idle": "2023-02-22T18:21:22.797179Z",
     "shell.execute_reply": "2023-02-22T18:21:22.796948Z",
     "shell.execute_reply.started": "2023-02-22T18:21:22.796925Z"
    }
   },
   "outputs": [],
   "source": [
    "%%time\n",
    "if rnn:\n",
    "    tweet_results = tweet_results.append(cross_validate_NN(create_rnn_model(tweet_x_y['word_index'], label=tweet_x_y['labels'], embedding_matrix=tweet_x_y['embedding_matrix'], pre_trained=pre_trained), tweet_x_y['train_seq_x'],tweet_x_y['train_y'], tweet_x_y['valid_seq_x'],tweet_x_y['valid_y'], es, name=\"RNN_WE\", scoring=score_metrics, n_splits=5))"
   ]
  },
  {
   "cell_type": "code",
   "execution_count": null,
   "metadata": {
    "execution": {
     "iopub.status.busy": "2023-02-22T18:21:22.798609Z",
     "iopub.status.idle": "2023-02-22T18:21:22.799415Z",
     "shell.execute_reply": "2023-02-22T18:21:22.799179Z",
     "shell.execute_reply.started": "2023-02-22T18:21:22.799154Z"
    }
   },
   "outputs": [],
   "source": [
    "%%time\n",
    "if rnn:\n",
    "    news_results = news_results.append(cross_validate_NN(create_rnn_model(news_x_y['word_index'], label=news_x_y['labels'], embedding_matrix=news_x_y['embedding_matrix'], pre_trained=pre_trained), news_x_y['train_seq_x'],news_x_y['train_y'], news_x_y['valid_seq_x'],news_x_y['valid_y'], es, name=\"RNN_WE\", scoring=score_metrics, n_splits=5))"
   ]
  },
  {
   "cell_type": "markdown",
   "metadata": {},
   "source": [
    "#### LSTM"
   ]
  },
  {
   "cell_type": "code",
   "execution_count": null,
   "metadata": {
    "execution": {
     "iopub.status.busy": "2023-02-22T18:21:22.807709Z",
     "iopub.status.idle": "2023-02-22T18:21:22.808623Z",
     "shell.execute_reply": "2023-02-22T18:21:22.808379Z",
     "shell.execute_reply.started": "2023-02-22T18:21:22.808346Z"
    }
   },
   "outputs": [],
   "source": [
    "def create_lstm_model(word_index, label, embedding_matrix, pre_trained=False):\n",
    "    if pre_trained==False:\n",
    "        embedded = keras.layers.Embedding(len(word_index) +1, 100)\n",
    "    else:\n",
    "        embedded = keras.layers.Embedding(len(word_index)+1, 300, weights=[embedding_matrix], trainable=False)\n",
    "    \n",
    "    model = keras.Sequential([\n",
    "    embedded,\n",
    "    keras.layers.LSTM(32),\n",
    "    keras.layers.Dropout(0.2),\n",
    "    keras.layers.Dense(1 if len(label)<=2 else len(label), activation='sigmoid' if len(label)<=2 else \"softmax\")])\n",
    "\n",
    "    if len(label)==2:\n",
    "        model.compile(optimizer='adam',\n",
    "              loss=tf.losses.BinaryCrossentropy(from_logits=True),\n",
    "              metrics=['accuracy'])\n",
    "    else: \n",
    "        model.compile(optimizer='adam',\n",
    "              loss=tf.losses.SparseCategoricalCrossentropy(from_logits=True),\n",
    "              metrics=['accuracy'])\n",
    "    #print(model.summary())\n",
    "    \n",
    "    return model"
   ]
  },
  {
   "cell_type": "code",
   "execution_count": null,
   "metadata": {
    "execution": {
     "iopub.status.busy": "2023-02-22T18:21:22.810115Z",
     "iopub.status.idle": "2023-02-22T18:21:22.810616Z",
     "shell.execute_reply": "2023-02-22T18:21:22.810367Z",
     "shell.execute_reply.started": "2023-02-22T18:21:22.810337Z"
    }
   },
   "outputs": [],
   "source": [
    "%%time\n",
    "if lstm:\n",
    "    tweet_results = tweet_results.append(cross_validate_NN(create_lstm_model(tweet_x_y['word_index'], label=tweet_x_y['labels'], embedding_matrix=tweet_x_y['embedding_matrix'], pre_trained=pre_trained), tweet_x_y['train_seq_x'],tweet_x_y['train_y'], tweet_x_y['valid_seq_x'],tweet_x_y['valid_y'], es, name=\"LSTM_WE\", scoring=score_metrics, n_splits=5))"
   ]
  },
  {
   "cell_type": "code",
   "execution_count": null,
   "metadata": {
    "execution": {
     "iopub.status.busy": "2023-02-22T18:21:22.812503Z",
     "iopub.status.idle": "2023-02-22T18:21:22.812986Z",
     "shell.execute_reply": "2023-02-22T18:21:22.812765Z",
     "shell.execute_reply.started": "2023-02-22T18:21:22.812742Z"
    }
   },
   "outputs": [],
   "source": [
    "%%time\n",
    "if lstm:\n",
    "    news_results = news_results.append(cross_validate_NN(create_lstm_model(news_x_y['word_index'], label=news_x_y['labels'], embedding_matrix=news_x_y['embedding_matrix'], pre_trained=pre_trained), news_x_y['train_seq_x'],news_x_y['train_y'], news_x_y['valid_seq_x'],news_x_y['valid_y'], es, name=\"LSTM_WE\", scoring=score_metrics, n_splits=5))"
   ]
  },
  {
   "cell_type": "markdown",
   "metadata": {},
   "source": [
    "#### GRU"
   ]
  },
  {
   "cell_type": "code",
   "execution_count": null,
   "metadata": {
    "execution": {
     "iopub.status.busy": "2023-02-22T18:21:22.828139Z",
     "iopub.status.idle": "2023-02-22T18:21:22.828627Z",
     "shell.execute_reply": "2023-02-22T18:21:22.828391Z",
     "shell.execute_reply.started": "2023-02-22T18:21:22.828367Z"
    }
   },
   "outputs": [],
   "source": [
    "def create_gru_model(word_index, label, embedding_matrix, pre_trained=False):\n",
    "    if pre_trained==False:\n",
    "        embedded = keras.layers.Embedding(len(word_index) + 1, 100)\n",
    "    else:\n",
    "        embedded = keras.layers.Embedding(len(word_index) + 1, 300, weights=[embedding_matrix], trainable=False)\n",
    "    \n",
    "    model = keras.Sequential([\n",
    "    embedded,\n",
    "    keras.layers.GRU(32),\n",
    "    keras.layers.Dropout(0.2),\n",
    "    keras.layers.Dense(1 if len(label)<=2 else len(label), activation='sigmoid' if len(label)<=2 else \"softmax\")])\n",
    "\n",
    "    if len(label)==2:\n",
    "        model.compile(optimizer='adam',\n",
    "              loss=tf.losses.BinaryCrossentropy(from_logits=True),\n",
    "              metrics=['accuracy'])\n",
    "    else: \n",
    "        model.compile(optimizer='adam',\n",
    "              loss=tf.losses.SparseCategoricalCrossentropy(from_logits=True),\n",
    "              metrics=['accuracy'])\n",
    "    #print(model.summary())\n",
    "    \n",
    "    return model"
   ]
  },
  {
   "cell_type": "code",
   "execution_count": null,
   "metadata": {
    "execution": {
     "iopub.status.busy": "2023-02-22T18:21:22.830439Z",
     "iopub.status.idle": "2023-02-22T18:21:22.830957Z",
     "shell.execute_reply": "2023-02-22T18:21:22.830736Z",
     "shell.execute_reply.started": "2023-02-22T18:21:22.830713Z"
    }
   },
   "outputs": [],
   "source": [
    "%%time\n",
    "if gru:\n",
    "    tweet_results = tweet_results.append(cross_validate_NN(create_gru_model(tweet_x_y['word_index'], label=tweet_x_y['labels'], embedding_matrix=tweet_x_y['embedding_matrix'], pre_trained=pre_trained), tweet_x_y['train_seq_x'],tweet_x_y['train_y'], tweet_x_y['valid_seq_x'],tweet_x_y['valid_y'], es, name=\"GRU_WE\", scoring=score_metrics, n_splits=5))"
   ]
  },
  {
   "cell_type": "code",
   "execution_count": null,
   "metadata": {
    "execution": {
     "iopub.status.busy": "2023-02-22T18:21:22.832554Z",
     "iopub.status.idle": "2023-02-22T18:21:22.833010Z",
     "shell.execute_reply": "2023-02-22T18:21:22.832795Z",
     "shell.execute_reply.started": "2023-02-22T18:21:22.832773Z"
    }
   },
   "outputs": [],
   "source": [
    "%%time\n",
    "if gru:\n",
    "    news_results = news_results.append(cross_validate_NN(create_gru_model(news_x_y['word_index'], label=news_x_y['labels'], embedding_matrix=news_x_y['embedding_matrix'], pre_trained=pre_trained), news_x_y['train_seq_x'],news_x_y['train_y'], news_x_y['valid_seq_x'],news_x_y['valid_y'], es, name=\"GRU_WE\", scoring=score_metrics, n_splits=5))"
   ]
  },
  {
   "cell_type": "markdown",
   "metadata": {},
   "source": [
    "#### CNN - LSTM"
   ]
  },
  {
   "cell_type": "code",
   "execution_count": null,
   "metadata": {
    "execution": {
     "iopub.status.busy": "2023-02-22T18:21:22.814848Z",
     "iopub.status.idle": "2023-02-22T18:21:22.815304Z",
     "shell.execute_reply": "2023-02-22T18:21:22.815089Z",
     "shell.execute_reply.started": "2023-02-22T18:21:22.815066Z"
    }
   },
   "outputs": [],
   "source": [
    "def create_cnn_lstm_model(word_index, label, embedding_matrix, pre_trained=False):\n",
    "    if pre_trained==False:\n",
    "        embedded = keras.layers.Embedding(len(word_index) + 1, 100)\n",
    "    else:\n",
    "        embedded = keras.layers.Embedding(len(word_index) + 1, 300, weights=[embedding_matrix], trainable=False)\n",
    "    \n",
    "    model = keras.Sequential([\n",
    "    embedded,\n",
    "    keras.layers.Conv1D(128, 5, activation='relu'),\n",
    "    keras.layers.Dropout(0.2),\n",
    "    keras.layers.MaxPooling1D(pool_size=4),\n",
    "    keras.layers.LSTM(32),\n",
    "    keras.layers.Dense(1 if len(label)<=2 else len(label), activation='sigmoid' if len(label)<=2 else \"softmax\")])\n",
    "\n",
    "    if len(label)==2:\n",
    "        model.compile(optimizer='adam',\n",
    "              loss=tf.losses.BinaryCrossentropy(from_logits=True),\n",
    "              metrics=['accuracy'])\n",
    "    else: \n",
    "        model.compile(optimizer='adam',\n",
    "              loss=tf.losses.SparseCategoricalCrossentropy(from_logits=True),\n",
    "              metrics=['accuracy'])\n",
    "    #print(model.summary())\n",
    "    \n",
    "    return model"
   ]
  },
  {
   "cell_type": "code",
   "execution_count": null,
   "metadata": {
    "execution": {
     "iopub.status.busy": "2023-02-22T18:21:22.816729Z",
     "iopub.status.idle": "2023-02-22T18:21:22.817496Z",
     "shell.execute_reply": "2023-02-22T18:21:22.817260Z",
     "shell.execute_reply.started": "2023-02-22T18:21:22.817232Z"
    }
   },
   "outputs": [],
   "source": [
    "%%time\n",
    "if cnn_lstm:\n",
    "    tweet_results = tweet_results.append(cross_validate_NN(create_cnn_lstm_model(tweet_x_y['word_index'], label=tweet_x_y['labels'], embedding_matrix=tweet_x_y['embedding_matrix'], pre_trained=pre_trained), tweet_x_y['train_seq_x'],tweet_x_y['train_y'], tweet_x_y['valid_seq_x'],tweet_x_y['valid_y'], es, name=\"CNN_LSTM_WE\", scoring=score_metrics, n_splits=5))"
   ]
  },
  {
   "cell_type": "code",
   "execution_count": null,
   "metadata": {
    "execution": {
     "iopub.status.busy": "2023-02-22T18:21:22.819124Z",
     "iopub.status.idle": "2023-02-22T18:21:22.819604Z",
     "shell.execute_reply": "2023-02-22T18:21:22.819376Z",
     "shell.execute_reply.started": "2023-02-22T18:21:22.819346Z"
    }
   },
   "outputs": [],
   "source": [
    "%%time\n",
    "if cnn_lstm:\n",
    "    news_results = news_results.append(cross_validate_NN(create_cnn_lstm_model(news_x_y['word_index'], label=news_x_y['labels'], embedding_matrix=news_x_y['embedding_matrix'], pre_trained=pre_trained), news_x_y['train_seq_x'],news_x_y['train_y'], news_x_y['valid_seq_x'],news_x_y['valid_y'], es, name=\"CNN_LSTM_WE\", scoring=score_metrics, n_splits=5))"
   ]
  },
  {
   "cell_type": "markdown",
   "metadata": {},
   "source": [
    "#### CNN - GRU"
   ]
  },
  {
   "cell_type": "code",
   "execution_count": null,
   "metadata": {
    "execution": {
     "iopub.status.busy": "2023-02-22T18:21:22.821200Z",
     "iopub.status.idle": "2023-02-22T18:21:22.822184Z",
     "shell.execute_reply": "2023-02-22T18:21:22.821963Z",
     "shell.execute_reply.started": "2023-02-22T18:21:22.821939Z"
    }
   },
   "outputs": [],
   "source": [
    "def create_cnn_gru_model(word_index, label, embedding_matrix, pre_trained=False):\n",
    "    if pre_trained==False:\n",
    "        embedded = keras.layers.Embedding(len(word_index) + 1, 100)\n",
    "    else:\n",
    "        embedded = keras.layers.Embedding(len(word_index) + 1, 300, weights=[embedding_matrix], trainable=False)\n",
    "    \n",
    "    model = keras.Sequential([\n",
    "    embedded,\n",
    "    keras.layers.Conv1D(128, 5, activation='relu'),\n",
    "    keras.layers.Dropout(0.2),\n",
    "    keras.layers.MaxPooling1D(pool_size=4),\n",
    "    keras.layers.GRU(32),\n",
    "    keras.layers.Dense(1 if len(label)<=2 else len(label), activation='sigmoid' if len(label)<=2 else \"softmax\")])\n",
    "\n",
    "    if len(label)==2:\n",
    "        model.compile(optimizer='adam',\n",
    "              loss=tf.losses.BinaryCrossentropy(from_logits=True),\n",
    "              metrics=['accuracy'])\n",
    "    else: \n",
    "        model.compile(optimizer='adam',\n",
    "              loss=tf.losses.SparseCategoricalCrossentropy(from_logits=True),\n",
    "              metrics=['accuracy'])\n",
    "    #print(model.summary())\n",
    "    \n",
    "    return model"
   ]
  },
  {
   "cell_type": "code",
   "execution_count": null,
   "metadata": {
    "execution": {
     "iopub.status.busy": "2023-02-22T18:21:22.823822Z",
     "iopub.status.idle": "2023-02-22T18:21:22.824283Z",
     "shell.execute_reply": "2023-02-22T18:21:22.824063Z",
     "shell.execute_reply.started": "2023-02-22T18:21:22.824040Z"
    }
   },
   "outputs": [],
   "source": [
    "%%time\n",
    "if cnn_gru:\n",
    "    tweet_results = tweet_results.append(cross_validate_NN(create_cnn_gru_model(tweet_x_y['word_index'], label=tweet_x_y['labels'], embedding_matrix=tweet_x_y['embedding_matrix'], pre_trained=pre_trained), tweet_x_y['train_seq_x'],tweet_x_y['train_y'], tweet_x_y['valid_seq_x'],tweet_x_y['valid_y'], es, name=\"CNN_GRU_WE\", scoring=score_metrics, n_splits=5))"
   ]
  },
  {
   "cell_type": "code",
   "execution_count": null,
   "metadata": {
    "execution": {
     "iopub.status.busy": "2023-02-22T18:21:22.825716Z",
     "iopub.status.idle": "2023-02-22T18:21:22.826667Z",
     "shell.execute_reply": "2023-02-22T18:21:22.826423Z",
     "shell.execute_reply.started": "2023-02-22T18:21:22.826397Z"
    }
   },
   "outputs": [],
   "source": [
    "%%time\n",
    "if cnn_gru:\n",
    "    news_results = news_results.append(cross_validate_NN(create_cnn_gru_model(news_x_y['word_index'], label=news_x_y['labels'], embedding_matrix=news_x_y['embedding_matrix'], pre_trained=pre_trained), news_x_y['train_seq_x'],news_x_y['train_y'], news_x_y['valid_seq_x'],news_x_y['valid_y'], es, name=\"CNN_GRU_WE\", scoring=score_metrics, n_splits=5))"
   ]
  },
  {
   "cell_type": "markdown",
   "metadata": {},
   "source": [
    "### Bidirectional RNN"
   ]
  },
  {
   "cell_type": "code",
   "execution_count": null,
   "metadata": {
    "execution": {
     "iopub.status.busy": "2023-02-22T18:21:22.834886Z",
     "iopub.status.idle": "2023-02-22T18:21:22.835339Z",
     "shell.execute_reply": "2023-02-22T18:21:22.835124Z",
     "shell.execute_reply.started": "2023-02-22T18:21:22.835102Z"
    }
   },
   "outputs": [],
   "source": [
    "def create_bidirec_rnn_model(word_index, label, embedding_matrix, pre_trained=False):\n",
    "    if pre_trained==False:\n",
    "        embedded = keras.layers.Embedding(len(word_index) + 1, 100)\n",
    "    else:\n",
    "        embedded = keras.layers.Embedding(len(word_index) + 1, 300, weights=[embedding_matrix], trainable=False)\n",
    "    \n",
    "    model = keras.Sequential([\n",
    "    embedded,\n",
    "    keras.layers.Bidirectional(keras.layers.SimpleRNN(32, return_sequences=True)),\n",
    "    keras.layers.Bidirectional(keras.layers.SimpleRNN(32, return_sequences=True)),\n",
    "    keras.layers.Bidirectional(keras.layers.SimpleRNN(32, return_sequences=True)),\n",
    "    keras.layers.Bidirectional(keras.layers.SimpleRNN(32)),\n",
    "    keras.layers.Dropout(0.2),\n",
    "    keras.layers.Dense(1 if len(label)<=2 else len(label), activation='sigmoid' if len(label)<=2 else \"softmax\")])\n",
    "\n",
    "    if len(label)==2:\n",
    "        model.compile(optimizer='adam',\n",
    "              loss=tf.losses.BinaryCrossentropy(from_logits=True),\n",
    "              metrics=['accuracy'])\n",
    "    else: \n",
    "        model.compile(optimizer='adam',\n",
    "              loss=tf.losses.SparseCategoricalCrossentropy(from_logits=True),\n",
    "              metrics=['accuracy'])\n",
    "    #print(model.summary())\n",
    "    \n",
    "    return model"
   ]
  },
  {
   "cell_type": "code",
   "execution_count": null,
   "metadata": {
    "execution": {
     "iopub.status.busy": "2023-02-22T18:21:22.837164Z",
     "iopub.status.idle": "2023-02-22T18:21:22.837646Z",
     "shell.execute_reply": "2023-02-22T18:21:22.837413Z",
     "shell.execute_reply.started": "2023-02-22T18:21:22.837390Z"
    }
   },
   "outputs": [],
   "source": [
    "%%time\n",
    "if bidirectional_rnn:\n",
    "    tweet_results = tweet_results.append(cross_validate_NN(create_bidirec_rnn_model(tweet_x_y['word_index'], label=tweet_x_y['labels'], embedding_matrix=tweet_x_y['embedding_matrix'], pre_trained=pre_trained), tweet_x_y['train_seq_x'],tweet_x_y['train_y'], tweet_x_y['valid_seq_x'],tweet_x_y['valid_y'], es, name=\"BiRNN_WE\", scoring=score_metrics, n_splits=5))"
   ]
  },
  {
   "cell_type": "code",
   "execution_count": null,
   "metadata": {
    "execution": {
     "iopub.status.busy": "2023-02-22T18:21:22.839410Z",
     "iopub.status.idle": "2023-02-22T18:21:22.839882Z",
     "shell.execute_reply": "2023-02-22T18:21:22.839664Z",
     "shell.execute_reply.started": "2023-02-22T18:21:22.839642Z"
    }
   },
   "outputs": [],
   "source": [
    "%%time\n",
    "if bidirectional_rnn:\n",
    "    news_results = news_results.append(cross_validate_NN(create_bidirec_rnn_model(news_x_y['word_index'], label=news_x_y['labels'], embedding_matrix=news_x_y['embedding_matrix'], pre_trained=pre_trained), news_x_y['train_seq_x'],news_x_y['train_y'], news_x_y['valid_seq_x'],news_x_y['valid_y'], es, name=\"BiRNN_WE\", scoring=score_metrics, n_splits=5))"
   ]
  },
  {
   "cell_type": "markdown",
   "metadata": {},
   "source": [
    "#### Bidirectional LSTM"
   ]
  },
  {
   "cell_type": "code",
   "execution_count": null,
   "metadata": {
    "execution": {
     "iopub.status.busy": "2023-02-22T18:21:22.841727Z",
     "iopub.status.idle": "2023-02-22T18:21:22.842184Z",
     "shell.execute_reply": "2023-02-22T18:21:22.841968Z",
     "shell.execute_reply.started": "2023-02-22T18:21:22.841946Z"
    }
   },
   "outputs": [],
   "source": [
    "def create_bidirec_lstm_model(word_index, label, embedding_matrix, pre_trained=False):\n",
    "    if pre_trained==False:\n",
    "        embedded = keras.layers.Embedding(len(word_index) + 1, 100)\n",
    "    else:\n",
    "        embedded = keras.layers.Embedding(len(word_index) + 1, 300, weights=[embedding_matrix], trainable=False)\n",
    "    \n",
    "    model = keras.Sequential([\n",
    "    embedded,\n",
    "    keras.layers.Bidirectional(keras.layers.LSTM(32)),\n",
    "    keras.layers.Dropout(0.2),\n",
    "    keras.layers.Dense(1 if len(label)<=2 else len(label), activation='sigmoid' if len(label)<=2 else \"softmax\")])\n",
    "\n",
    "    if len(label)==2:\n",
    "        model.compile(optimizer='adam',\n",
    "              loss=tf.losses.BinaryCrossentropy(from_logits=True),\n",
    "              metrics=['accuracy'])\n",
    "    else: \n",
    "        model.compile(optimizer='adam',\n",
    "              loss=tf.losses.SparseCategoricalCrossentropy(from_logits=True),\n",
    "              metrics=['accuracy'])\n",
    "    #print(model.summary())\n",
    "    \n",
    "    return model"
   ]
  },
  {
   "cell_type": "code",
   "execution_count": null,
   "metadata": {
    "execution": {
     "iopub.status.busy": "2023-02-22T18:21:22.843642Z",
     "iopub.status.idle": "2023-02-22T18:21:22.844530Z",
     "shell.execute_reply": "2023-02-22T18:21:22.844292Z",
     "shell.execute_reply.started": "2023-02-22T18:21:22.844266Z"
    }
   },
   "outputs": [],
   "source": [
    "%%time\n",
    "if bidirectional_lstm:\n",
    "    tweet_results = tweet_results.append(cross_validate_NN(create_bidirec_lstm_model(tweet_x_y['word_index'], label=tweet_x_y['labels'], embedding_matrix=tweet_x_y['embedding_matrix'], pre_trained=pre_trained), tweet_x_y['train_seq_x'],tweet_x_y['train_y'], tweet_x_y['valid_seq_x'],tweet_x_y['valid_y'], es, name=\"BiLSTM_WE\", scoring=score_metrics, n_splits=5))"
   ]
  },
  {
   "cell_type": "code",
   "execution_count": null,
   "metadata": {
    "execution": {
     "iopub.status.busy": "2023-02-22T18:21:22.846039Z",
     "iopub.status.idle": "2023-02-22T18:21:22.846508Z",
     "shell.execute_reply": "2023-02-22T18:21:22.846281Z",
     "shell.execute_reply.started": "2023-02-22T18:21:22.846259Z"
    }
   },
   "outputs": [],
   "source": [
    "%%time\n",
    "if bidirectional_lstm:\n",
    "    news_results = news_results.append(cross_validate_NN(create_bidirec_lstm_model(news_x_y['word_index'], label=news_x_y['labels'], embedding_matrix=news_x_y['embedding_matrix'], pre_trained=pre_trained), news_x_y['train_seq_x'],news_x_y['train_y'], news_x_y['valid_seq_x'],news_x_y['valid_y'], es, name=\"BiLSTM_WE\", scoring=score_metrics, n_splits=5))"
   ]
  },
  {
   "cell_type": "markdown",
   "metadata": {},
   "source": [
    "#### Bidirectional LSTM"
   ]
  },
  {
   "cell_type": "code",
   "execution_count": null,
   "metadata": {
    "execution": {
     "iopub.status.busy": "2023-02-22T18:21:22.848400Z",
     "iopub.status.idle": "2023-02-22T18:21:22.848877Z",
     "shell.execute_reply": "2023-02-22T18:21:22.848659Z",
     "shell.execute_reply.started": "2023-02-22T18:21:22.848635Z"
    }
   },
   "outputs": [],
   "source": [
    "def create_bidirec_gru_model(word_index, label, embedding_matrix, pre_trained=False):\n",
    "    if pre_trained==False:\n",
    "        embedded = keras.layers.Embedding(len(word_index) + 1, 100)\n",
    "    else:\n",
    "        embedded = keras.layers.Embedding(len(word_index) + 1, 300, weights=[embedding_matrix], trainable=False)\n",
    "    \n",
    "    model = keras.Sequential([\n",
    "    embedded,\n",
    "    keras.layers.Bidirectional(keras.layers.GRU(32)),\n",
    "    keras.layers.Dropout(0.2),\n",
    "    keras.layers.Dense(1 if len(label)<=2 else len(label), activation='sigmoid' if len(label)<=2 else \"softmax\")])\n",
    "\n",
    "    if len(label)==2:\n",
    "        model.compile(optimizer='adam',\n",
    "              loss=tf.losses.BinaryCrossentropy(from_logits=True),\n",
    "              metrics=['accuracy'])\n",
    "    else: \n",
    "        model.compile(optimizer='adam',\n",
    "              loss=tf.losses.SparseCategoricalCrossentropy(from_logits=True),\n",
    "              metrics=['accuracy'])\n",
    "    #print(model.summary())\n",
    "    \n",
    "    return model"
   ]
  },
  {
   "cell_type": "code",
   "execution_count": null,
   "metadata": {
    "execution": {
     "iopub.status.busy": "2023-02-22T18:21:22.850715Z",
     "iopub.status.idle": "2023-02-22T18:21:22.851175Z",
     "shell.execute_reply": "2023-02-22T18:21:22.850958Z",
     "shell.execute_reply.started": "2023-02-22T18:21:22.850934Z"
    }
   },
   "outputs": [],
   "source": [
    "%%time\n",
    "if bidirectional_gru:\n",
    "    tweet_results = tweet_results.append(cross_validate_NN(create_bidirec_gru_model(tweet_x_y['word_index'], label=tweet_x_y['labels'], embedding_matrix=tweet_x_y['embedding_matrix'], pre_trained=pre_trained), tweet_x_y['train_seq_x'],tweet_x_y['train_y'], tweet_x_y['valid_seq_x'],tweet_x_y['valid_y'], es, name=\"BiGRU_WE\", scoring=score_metrics, n_splits=5))"
   ]
  },
  {
   "cell_type": "code",
   "execution_count": null,
   "metadata": {
    "execution": {
     "iopub.status.busy": "2023-02-22T18:21:22.853002Z",
     "iopub.status.idle": "2023-02-22T18:21:22.853475Z",
     "shell.execute_reply": "2023-02-22T18:21:22.853247Z",
     "shell.execute_reply.started": "2023-02-22T18:21:22.853224Z"
    }
   },
   "outputs": [],
   "source": [
    "%%time\n",
    "if bidirectional_gru:\n",
    "    news_results = news_results.append(cross_validate_NN(create_bidirec_gru_model(news_x_y['word_index'], label=news_x_y['labels'], embedding_matrix=news_x_y['embedding_matrix'], pre_trained=pre_trained), news_x_y['train_seq_x'],news_x_y['train_y'], news_x_y['valid_seq_x'],news_x_y['valid_y'], es, name=\"BiGRU_WE\", scoring=score_metrics, n_splits=5))"
   ]
  },
  {
   "cell_type": "markdown",
   "metadata": {},
   "source": [
    "#### RCNN"
   ]
  },
  {
   "cell_type": "code",
   "execution_count": null,
   "metadata": {
    "execution": {
     "iopub.status.busy": "2023-02-22T18:21:22.855584Z",
     "iopub.status.idle": "2023-02-22T18:21:22.856046Z",
     "shell.execute_reply": "2023-02-22T18:21:22.855828Z",
     "shell.execute_reply.started": "2023-02-22T18:21:22.855806Z"
    }
   },
   "outputs": [],
   "source": [
    "def create_rcnn(X, word_index, label, embedding_matrix, pre_trained=False):\n",
    "    if pre_trained==False:\n",
    "        embedded = keras.layers.Embedding(len(word_index) + 1, 100)\n",
    "    else:\n",
    "        embedded = keras.layers.Embedding(len(word_index) + 1, 300,input_length=X.shape[1], weights=[embedding_matrix], trainable=False)\n",
    "    \n",
    "    model = keras.Sequential([\n",
    "    embedded,\n",
    "    keras.layers.SpatialDropout1D(0.3),\n",
    "    keras.layers.Bidirectional(keras.layers.GRU(32,return_sequences=True)),\n",
    "    keras.layers.Convolution1D(32, 3, activation=\"relu\"),\n",
    "    keras.layers.GlobalMaxPool1D(),\n",
    "    keras.layers.Dense(25, activation=\"relu\"),\n",
    "    keras.layers.Dropout(0.25),\n",
    "    keras.layers.Dense(1 if len(label)<=2 else len(label), activation='sigmoid' if len(label)<=2 else \"softmax\")])\n",
    "\n",
    "    if len(label)==2:\n",
    "        model.compile(optimizer='adam',\n",
    "              loss=tf.losses.BinaryCrossentropy(from_logits=True),\n",
    "              metrics=['accuracy'])\n",
    "    else: \n",
    "        model.compile(optimizer='adam',\n",
    "              loss=tf.losses.SparseCategoricalCrossentropy(from_logits=True),\n",
    "              metrics=['accuracy'])\n",
    "    #print(model.summary())\n",
    "    \n",
    "    return model"
   ]
  },
  {
   "cell_type": "code",
   "execution_count": null,
   "metadata": {
    "execution": {
     "iopub.status.busy": "2023-02-22T18:21:22.857926Z",
     "iopub.status.idle": "2023-02-22T18:21:22.858399Z",
     "shell.execute_reply": "2023-02-22T18:21:22.858171Z",
     "shell.execute_reply.started": "2023-02-22T18:21:22.858149Z"
    }
   },
   "outputs": [],
   "source": [
    "%%time\n",
    "if rcnn:\n",
    "    tweet_results = tweet_results.append(cross_validate_NN(create_rcnn(tweet_x_y['word_index'], label=tweet_x_y['labels'], embedding_matrix=tweet_x_y['embedding_matrix'], pre_trained=pre_trained), tweet_x_y['train_seq_x'],tweet_x_y['train_y'], tweet_x_y['valid_seq_x'],tweet_x_y['valid_y'], es, name=\"RCNN_WE\", scoring=score_metrics, n_splits=5))"
   ]
  },
  {
   "cell_type": "code",
   "execution_count": null,
   "metadata": {
    "execution": {
     "iopub.status.busy": "2023-02-22T18:21:22.860108Z",
     "iopub.status.idle": "2023-02-22T18:21:22.860959Z",
     "shell.execute_reply": "2023-02-22T18:21:22.860732Z",
     "shell.execute_reply.started": "2023-02-22T18:21:22.860706Z"
    }
   },
   "outputs": [],
   "source": [
    "%%time\n",
    "if rcnn:\n",
    "    news_results = news_results.append(cross_validate_NN(create_rcnn(news_x_y['word_index'], label=news_x_y['labels'], embedding_matrix=news_x_y['embedding_matrix'], pre_trained=pre_trained), news_x_y['train_seq_x'],news_x_y['train_y'], news_x_y['valid_seq_x'],news_x_y['valid_y'], es, name=\"RCNN_WE\", scoring=score_metrics, n_splits=5))"
   ]
  },
  {
   "cell_type": "code",
   "execution_count": null,
   "metadata": {
    "execution": {
     "iopub.status.busy": "2023-02-22T18:21:22.862673Z",
     "iopub.status.idle": "2023-02-22T18:21:22.863130Z",
     "shell.execute_reply": "2023-02-22T18:21:22.862916Z",
     "shell.execute_reply.started": "2023-02-22T18:21:22.862893Z"
    }
   },
   "outputs": [],
   "source": [
    "def create_rcnn_var1(word_index, label, embedding_matrix, pre_trained=False):\n",
    "    if pre_trained==False:\n",
    "        embedded = keras.layers.Embedding(len(word_index) + 1, 100)\n",
    "    else:\n",
    "        embedded = keras.layers.Embedding(len(word_index) + 1, 300, weights=[embedding_matrix], trainable=False)\n",
    "    \n",
    "    model = keras.Sequential([\n",
    "    embedded,\n",
    "    keras.layers.SpatialDropout1D(0.3),\n",
    "    keras.layers.Bidirectional(keras.layers.LSTM(32,return_sequences=True)),\n",
    "    keras.layers.Convolution1D(32, 3, activation=\"relu\"),\n",
    "    keras.layers.GlobalMaxPool1D(),\n",
    "    keras.layers.Dense(25, activation=\"relu\"),\n",
    "    keras.layers.Dropout(0.25),\n",
    "    keras.layers.Dense(1 if len(label)<=2 else len(label), activation='sigmoid' if len(label)<=2 else \"softmax\")])\n",
    "\n",
    "    if len(label)==2:\n",
    "        model.compile(optimizer='adam',\n",
    "              loss=tf.losses.BinaryCrossentropy(from_logits=True),\n",
    "              metrics=['accuracy'])\n",
    "    else: \n",
    "        model.compile(optimizer='adam',\n",
    "              loss=tf.losses.SparseCategoricalCrossentropy(from_logits=True),\n",
    "              metrics=['accuracy'])\n",
    "    #print(model.summary())\n",
    "    \n",
    "    return model"
   ]
  },
  {
   "cell_type": "code",
   "execution_count": null,
   "metadata": {
    "execution": {
     "iopub.status.busy": "2023-02-22T18:21:22.864964Z",
     "iopub.status.idle": "2023-02-22T18:21:22.865436Z",
     "shell.execute_reply": "2023-02-22T18:21:22.865209Z",
     "shell.execute_reply.started": "2023-02-22T18:21:22.865187Z"
    }
   },
   "outputs": [],
   "source": [
    "%%time\n",
    "if rcnn:\n",
    "    tweet_results = tweet_results.append(cross_validate_NN(create_rcnn_var1(tweet_x_y['word_index'], label=tweet_x_y['labels'], embedding_matrix=tweet_x_y['embedding_matrix'], pre_trained=pre_trained), tweet_x_y['train_seq_x'],tweet_x_y['train_y'], tweet_x_y['valid_seq_x'],tweet_x_y['valid_y'], es, name=\"RCNN_var1_WE\", scoring=score_metrics, n_splits=5))"
   ]
  },
  {
   "cell_type": "code",
   "execution_count": null,
   "metadata": {
    "execution": {
     "iopub.status.busy": "2023-02-22T18:21:22.867132Z",
     "iopub.status.idle": "2023-02-22T18:21:22.868118Z",
     "shell.execute_reply": "2023-02-22T18:21:22.867900Z",
     "shell.execute_reply.started": "2023-02-22T18:21:22.867874Z"
    }
   },
   "outputs": [],
   "source": [
    "%%time\n",
    "if rcnn:\n",
    "    news_results = news_results.append(cross_validate_NN(create_rcnn_var1(news_x_y['word_index'], label=news_x_y['labels'], embedding_matrix=news_x_y['embedding_matrix'], pre_trained=pre_trained), news_x_y['train_seq_x'],news_x_y['train_y'], news_x_y['valid_seq_x'],news_x_y['valid_y'], es, name=\"RCNN_var1_WE\", scoring=score_metrics, n_splits=5))"
   ]
  },
  {
   "cell_type": "code",
   "execution_count": null,
   "metadata": {
    "execution": {
     "iopub.status.busy": "2023-02-22T18:21:22.869724Z",
     "iopub.status.idle": "2023-02-22T18:21:22.870185Z",
     "shell.execute_reply": "2023-02-22T18:21:22.869968Z",
     "shell.execute_reply.started": "2023-02-22T18:21:22.869945Z"
    }
   },
   "outputs": [],
   "source": [
    "def create_rcnn_var2(word_index, label, embedding_matrix, pre_trained=False):\n",
    "    if pre_trained==False:\n",
    "        embedded = keras.layers.Embedding(len(word_index) + 1, 100)\n",
    "    else:\n",
    "        embedded = keras.layers.Embedding(len(word_index) + 1, 300, weights=[embedding_matrix], trainable=False)\n",
    "    \n",
    "    model = keras.Sequential([\n",
    "    embedded,\n",
    "    keras.layers.SpatialDropout1D(0.3),\n",
    "    keras.layers.Bidirectional(keras.layers.GRU(32,return_sequences=True)),\n",
    "    keras.layers.Bidirectional(keras.layers.GRU(32,return_sequences=True)),\n",
    "    keras.layers.Convolution1D(32, 3, activation=\"relu\"),\n",
    "    keras.layers.GlobalMaxPool1D(),\n",
    "    keras.layers.Dense(25, activation=\"relu\"),\n",
    "    keras.layers.Dropout(0.25),\n",
    "    keras.layers.Dense(1 if len(label)<=2 else len(label), activation='sigmoid' if len(label)<=2 else \"softmax\")])\n",
    "\n",
    "    if len(label)==2:\n",
    "        model.compile(optimizer='adam',\n",
    "              loss=tf.losses.BinaryCrossentropy(from_logits=True),\n",
    "              metrics=['accuracy'])\n",
    "    else: \n",
    "        model.compile(optimizer='adam',\n",
    "              loss=tf.losses.SparseCategoricalCrossentropy(from_logits=True),\n",
    "              metrics=['accuracy'])\n",
    "    #print(model.summary())\n",
    "    \n",
    "    return model"
   ]
  },
  {
   "cell_type": "code",
   "execution_count": null,
   "metadata": {
    "execution": {
     "iopub.status.busy": "2023-02-22T18:21:22.872017Z",
     "iopub.status.idle": "2023-02-22T18:21:22.872487Z",
     "shell.execute_reply": "2023-02-22T18:21:22.872260Z",
     "shell.execute_reply.started": "2023-02-22T18:21:22.872238Z"
    }
   },
   "outputs": [],
   "source": [
    "%%time\n",
    "if rcnn:\n",
    "    tweet_results = tweet_results.append(cross_validate_NN(create_rcnn_var2(tweet_x_y['word_index'], label=tweet_x_y['labels'], embedding_matrix=tweet_x_y['embedding_matrix'], pre_trained=pre_trained), tweet_x_y['train_seq_x'],tweet_x_y['train_y'], tweet_x_y['valid_seq_x'],tweet_x_y['valid_y'], es, name=\"RCNN_var2_WE\", scoring=score_metrics, n_splits=5))"
   ]
  },
  {
   "cell_type": "code",
   "execution_count": null,
   "metadata": {
    "execution": {
     "iopub.status.busy": "2023-02-22T18:21:22.874005Z",
     "iopub.status.idle": "2023-02-22T18:21:22.875105Z",
     "shell.execute_reply": "2023-02-22T18:21:22.874875Z",
     "shell.execute_reply.started": "2023-02-22T18:21:22.874849Z"
    }
   },
   "outputs": [],
   "source": [
    "%%time\n",
    "if rcnn:\n",
    "    news_results = news_results.append(cross_validate_NN(create_rcnn_var2(news_x_y['word_index'], label=news_x_y['labels'], embedding_matrix=news_x_y['embedding_matrix'], pre_trained=pre_trained), news_x_y['train_seq_x'],news_x_y['train_y'], news_x_y['valid_seq_x'],news_x_y['valid_y'], es, name=\"RCNN_var2_WE\", scoring=score_metrics, n_splits=5))"
   ]
  },
  {
   "cell_type": "code",
   "execution_count": null,
   "metadata": {
    "execution": {
     "iopub.status.busy": "2023-02-22T18:21:22.876787Z",
     "iopub.status.idle": "2023-02-22T18:21:22.877246Z",
     "shell.execute_reply": "2023-02-22T18:21:22.877030Z",
     "shell.execute_reply.started": "2023-02-22T18:21:22.877006Z"
    }
   },
   "outputs": [],
   "source": [
    "def create_rcnn_var3(word_index, label, embedding_matrix, pre_trained=False):\n",
    "    if pre_trained==False:\n",
    "        embedded = keras.layers.Embedding(len(word_index) + 1, 100)\n",
    "    else:\n",
    "        embedded = keras.layers.Embedding(len(word_index) + 1, 300, weights=[embedding_matrix], trainable=False)\n",
    "    \n",
    "    model = keras.Sequential([\n",
    "    embedded,\n",
    "    keras.layers.SpatialDropout1D(0.3),\n",
    "    keras.layers.Bidirectional(keras.layers.GRU(32,return_sequences=True)),\n",
    "    keras.layers.Bidirectional(keras.layers.LSTM(32,return_sequences=True)),\n",
    "    keras.layers.Convolution1D(32, 3, activation=\"relu\"),\n",
    "    keras.layers.GlobalMaxPool1D(),\n",
    "    keras.layers.Dense(25, activation=\"relu\"),\n",
    "    keras.layers.Dropout(0.25),\n",
    "    keras.layers.Dense(1 if len(label)<=2 else len(label), activation='sigmoid' if len(label)<=2 else \"softmax\")])\n",
    "\n",
    "    if len(label)==2:\n",
    "        model.compile(optimizer='adam',\n",
    "              loss=tf.losses.BinaryCrossentropy(from_logits=True),\n",
    "              metrics=['accuracy'])\n",
    "    else: \n",
    "        model.compile(optimizer='adam',\n",
    "              loss=tf.losses.SparseCategoricalCrossentropy(from_logits=True),\n",
    "              metrics=['accuracy'])\n",
    "    #print(model.summary())\n",
    "    \n",
    "    return model"
   ]
  },
  {
   "cell_type": "code",
   "execution_count": null,
   "metadata": {
    "execution": {
     "iopub.status.busy": "2023-02-22T18:21:22.878661Z",
     "iopub.status.idle": "2023-02-22T18:21:22.879414Z",
     "shell.execute_reply": "2023-02-22T18:21:22.879184Z",
     "shell.execute_reply.started": "2023-02-22T18:21:22.879154Z"
    }
   },
   "outputs": [],
   "source": [
    "%%time\n",
    "if rcnn:\n",
    "    tweet_results = tweet_results.append(cross_validate_NN(create_rcnn_var3(tweet_x_y['word_index'], label=tweet_x_y['labels'], embedding_matrix=tweet_x_y['embedding_matrix'], pre_trained=pre_trained), tweet_x_y['train_seq_x'],tweet_x_y['train_y'], tweet_x_y['valid_seq_x'],tweet_x_y['valid_y'], es, name=\"RCNN_var3_WE\", scoring=score_metrics, n_splits=5))"
   ]
  },
  {
   "cell_type": "code",
   "execution_count": null,
   "metadata": {
    "execution": {
     "iopub.status.busy": "2023-02-22T18:21:22.881045Z",
     "iopub.status.idle": "2023-02-22T18:21:22.881519Z",
     "shell.execute_reply": "2023-02-22T18:21:22.881294Z",
     "shell.execute_reply.started": "2023-02-22T18:21:22.881270Z"
    }
   },
   "outputs": [],
   "source": [
    "%%time\n",
    "if rcnn:\n",
    "    news_results = news_results.append(cross_validate_NN(create_rcnn_var3(news_x_y['word_index'], label=news_x_y['labels'], embedding_matrix=news_x_y['embedding_matrix'], pre_trained=pre_trained), news_x_y['train_seq_x'],news_x_y['train_y'], news_x_y['valid_seq_x'],news_x_y['valid_y'], es, name=\"RCNN_var3_WE\", scoring=score_metrics, n_splits=5))"
   ]
  },
  {
   "cell_type": "markdown",
   "metadata": {},
   "source": [
    "## Results"
   ]
  },
  {
   "cell_type": "code",
   "execution_count": null,
   "metadata": {
    "execution": {
     "iopub.status.busy": "2023-02-22T18:21:22.883186Z",
     "iopub.status.idle": "2023-02-22T18:21:22.884314Z",
     "shell.execute_reply": "2023-02-22T18:21:22.883985Z",
     "shell.execute_reply.started": "2023-02-22T18:21:22.883944Z"
    }
   },
   "outputs": [],
   "source": [
    "tweet_results = tweet_results.reset_index()\n",
    "news_results = news_results.reset_index()"
   ]
  },
  {
   "cell_type": "code",
   "execution_count": null,
   "metadata": {
    "execution": {
     "iopub.status.busy": "2023-02-22T18:21:22.886233Z",
     "iopub.status.idle": "2023-02-22T18:21:22.887018Z",
     "shell.execute_reply": "2023-02-22T18:21:22.886861Z",
     "shell.execute_reply.started": "2023-02-22T18:21:22.886834Z"
    }
   },
   "outputs": [],
   "source": [
    "tweet_results[[ \"Model\",\"test_acc_mean\",\"test_acc_std\", \n",
    "                        \"test_balanced_accuracy_mean\",\"test_balanced_accuracy_std\", \n",
    "                       \"test_prec_mean\", \"test_prec_std\", \n",
    "                        \"test_recall_mean\",\"test_recall_std\", \n",
    "                       \"test_f1-score_mean\", \"test_f1-score_std\", \n",
    "                       \"test_cohens_kappa_mean\", \"test_cohens_kappa_std\", \"test_matthews_corrcoef_mean\",\"test_matthews_corrcoef_std\", \n",
    "                       \"test_roc_auc_mean\", \"test_roc_auc_std\"]][tweet_results[\"test_prec_mean\"]<1].sort_values(by=[\"test_prec_mean\", \"test_recall_mean\"], ascending=False)"
   ]
  },
  {
   "cell_type": "code",
   "execution_count": null,
   "metadata": {
    "execution": {
     "iopub.status.busy": "2023-02-22T18:21:22.888634Z",
     "iopub.status.idle": "2023-02-22T18:21:22.889336Z",
     "shell.execute_reply": "2023-02-22T18:21:22.889109Z",
     "shell.execute_reply.started": "2023-02-22T18:21:22.889086Z"
    }
   },
   "outputs": [],
   "source": [
    "news_results[[ \"Model\",\"test_acc_mean\",\"test_acc_std\", \n",
    "                        \"test_balanced_accuracy_mean\",\"test_balanced_accuracy_std\", \n",
    "                       \"test_prec_mean\", \"test_prec_std\", \n",
    "                        \"test_recall_mean\",\"test_recall_std\", \n",
    "                       \"test_f1-score_mean\", \"test_f1-score_std\", \n",
    "                       \"test_cohens_kappa_mean\", \"test_cohens_kappa_std\", \"test_matthews_corrcoef_mean\",\"test_matthews_corrcoef_std\", \n",
    "                       \"test_roc_auc_mean\", \"test_roc_auc_std\"]][news_results[\"test_prec_mean\"]<1].sort_values(by=[\"test_prec_mean\", \"test_recall_mean\"], ascending=False)"
   ]
  },
  {
   "cell_type": "code",
   "execution_count": null,
   "metadata": {
    "execution": {
     "iopub.status.busy": "2023-02-22T18:21:22.890448Z",
     "iopub.status.idle": "2023-02-22T18:21:22.891465Z",
     "shell.execute_reply": "2023-02-22T18:21:22.891227Z",
     "shell.execute_reply.started": "2023-02-22T18:21:22.891203Z"
    }
   },
   "outputs": [],
   "source": [
    "if save_results:\n",
    "    tweet_results.sort_values(by=[\"test_prec_mean\", \"test_recall_mean\"], ascending=False).to_csv(\"tweet_results_DL.csv\", index=False)\n",
    "    news_results.sort_values(by=[\"test_prec_mean\", \"test_recall_mean\"], ascending=False).to_csv(\"news_results_DL.csv\", index=False)"
   ]
  }
 ],
 "metadata": {
  "kernelspec": {
   "display_name": "Python 3 (ipykernel)",
   "language": "python",
   "name": "python3"
  },
  "language_info": {
   "codemirror_mode": {
    "name": "ipython",
    "version": 3
   },
   "file_extension": ".py",
   "mimetype": "text/x-python",
   "name": "python",
   "nbconvert_exporter": "python",
   "pygments_lexer": "ipython3",
   "version": "3.9.7"
  }
 },
 "nbformat": 4,
 "nbformat_minor": 4
}
