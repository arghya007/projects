{
 "cells": [
  {
   "cell_type": "markdown",
   "id": "7a898705",
   "metadata": {},
   "source": [
    "## Importing Libraries"
   ]
  },
  {
   "cell_type": "code",
   "execution_count": 1,
   "id": "ncUNRILSEl5C",
   "metadata": {
    "_cell_guid": "b1076dfc-b9ad-4769-8c92-a6c4dae69d19",
    "_uuid": "8f2839f25d086af736a60e9eeb907d3b93b6e0e5",
    "execution": {
     "iopub.execute_input": "2023-02-18T14:49:59.715097Z",
     "iopub.status.busy": "2023-02-18T14:49:59.714724Z",
     "iopub.status.idle": "2023-02-18T14:49:59.721469Z",
     "shell.execute_reply": "2023-02-18T14:49:59.720325Z",
     "shell.execute_reply.started": "2023-02-18T14:49:59.715066Z"
    },
    "id": "ncUNRILSEl5C",
    "papermill": {
     "duration": 1.103402,
     "end_time": "2023-02-17T17:41:18.265799",
     "exception": false,
     "start_time": "2023-02-17T17:41:17.162397",
     "status": "completed"
    },
    "tags": []
   },
   "outputs": [],
   "source": [
    "import numpy as np\n",
    "import pandas as pd\n",
    "import requests\n",
    "import json\n",
    "from pandas.io.json import json_normalize\n",
    "from datetime import datetime\n",
    "import seaborn as sns\n",
    "import matplotlib.pyplot as plt"
   ]
  },
  {
   "cell_type": "markdown",
   "id": "04e518b3",
   "metadata": {},
   "source": [
    "### Importing Dataset"
   ]
  },
  {
   "cell_type": "code",
   "execution_count": 2,
   "id": "f0f907f4",
   "metadata": {},
   "outputs": [],
   "source": [
    "final_df = pd.read_csv('cleaned_data.csv', index_col = 'created_at', parse_dates = True)"
   ]
  },
  {
   "cell_type": "code",
   "execution_count": 3,
   "id": "ef28ae3f",
   "metadata": {},
   "outputs": [
    {
     "data": {
      "text/html": [
       "<div>\n",
       "<style scoped>\n",
       "    .dataframe tbody tr th:only-of-type {\n",
       "        vertical-align: middle;\n",
       "    }\n",
       "\n",
       "    .dataframe tbody tr th {\n",
       "        vertical-align: top;\n",
       "    }\n",
       "\n",
       "    .dataframe thead th {\n",
       "        text-align: right;\n",
       "    }\n",
       "</style>\n",
       "<table border=\"1\" class=\"dataframe\">\n",
       "  <thead>\n",
       "    <tr style=\"text-align: right;\">\n",
       "      <th></th>\n",
       "      <th>Unnamed: 0</th>\n",
       "      <th>entry_id</th>\n",
       "      <th>CO</th>\n",
       "      <th>CO2</th>\n",
       "      <th>NH4</th>\n",
       "      <th>Toluene</th>\n",
       "      <th>Alcohol</th>\n",
       "      <th>Humidity</th>\n",
       "      <th>Noise</th>\n",
       "      <th>Temperature</th>\n",
       "    </tr>\n",
       "    <tr>\n",
       "      <th>created_at</th>\n",
       "      <th></th>\n",
       "      <th></th>\n",
       "      <th></th>\n",
       "      <th></th>\n",
       "      <th></th>\n",
       "      <th></th>\n",
       "      <th></th>\n",
       "      <th></th>\n",
       "      <th></th>\n",
       "      <th></th>\n",
       "    </tr>\n",
       "  </thead>\n",
       "  <tbody>\n",
       "    <tr>\n",
       "      <th>2023-02-15 06:34:40+00:00</th>\n",
       "      <td>0</td>\n",
       "      <td>1</td>\n",
       "      <td>4.76938</td>\n",
       "      <td>3.26710</td>\n",
       "      <td>4.87753</td>\n",
       "      <td>0.64884</td>\n",
       "      <td>1.54507</td>\n",
       "      <td>29.0</td>\n",
       "      <td>27.87349</td>\n",
       "      <td>26.4</td>\n",
       "    </tr>\n",
       "    <tr>\n",
       "      <th>2023-02-15 06:34:56+00:00</th>\n",
       "      <td>1</td>\n",
       "      <td>2</td>\n",
       "      <td>5.08085</td>\n",
       "      <td>3.42086</td>\n",
       "      <td>5.07526</td>\n",
       "      <td>0.68577</td>\n",
       "      <td>1.62607</td>\n",
       "      <td>29.0</td>\n",
       "      <td>27.71829</td>\n",
       "      <td>26.5</td>\n",
       "    </tr>\n",
       "    <tr>\n",
       "      <th>2023-02-15 06:35:13+00:00</th>\n",
       "      <td>2</td>\n",
       "      <td>3</td>\n",
       "      <td>5.36931</td>\n",
       "      <td>3.56097</td>\n",
       "      <td>5.25439</td>\n",
       "      <td>0.71972</td>\n",
       "      <td>1.70024</td>\n",
       "      <td>29.0</td>\n",
       "      <td>27.78416</td>\n",
       "      <td>26.5</td>\n",
       "    </tr>\n",
       "    <tr>\n",
       "      <th>2023-02-15 06:35:29+00:00</th>\n",
       "      <td>3</td>\n",
       "      <td>4</td>\n",
       "      <td>5.45458</td>\n",
       "      <td>3.60199</td>\n",
       "      <td>5.30665</td>\n",
       "      <td>0.72971</td>\n",
       "      <td>1.72201</td>\n",
       "      <td>29.0</td>\n",
       "      <td>27.97206</td>\n",
       "      <td>26.5</td>\n",
       "    </tr>\n",
       "    <tr>\n",
       "      <th>2023-02-15 06:35:45+00:00</th>\n",
       "      <td>4</td>\n",
       "      <td>5</td>\n",
       "      <td>5.99422</td>\n",
       "      <td>3.85769</td>\n",
       "      <td>5.63062</td>\n",
       "      <td>0.79251</td>\n",
       "      <td>1.85836</td>\n",
       "      <td>29.0</td>\n",
       "      <td>27.88033</td>\n",
       "      <td>26.4</td>\n",
       "    </tr>\n",
       "  </tbody>\n",
       "</table>\n",
       "</div>"
      ],
      "text/plain": [
       "                           Unnamed: 0  entry_id       CO      CO2      NH4  \\\n",
       "created_at                                                                   \n",
       "2023-02-15 06:34:40+00:00           0         1  4.76938  3.26710  4.87753   \n",
       "2023-02-15 06:34:56+00:00           1         2  5.08085  3.42086  5.07526   \n",
       "2023-02-15 06:35:13+00:00           2         3  5.36931  3.56097  5.25439   \n",
       "2023-02-15 06:35:29+00:00           3         4  5.45458  3.60199  5.30665   \n",
       "2023-02-15 06:35:45+00:00           4         5  5.99422  3.85769  5.63062   \n",
       "\n",
       "                           Toluene  Alcohol  Humidity     Noise  Temperature  \n",
       "created_at                                                                    \n",
       "2023-02-15 06:34:40+00:00  0.64884  1.54507      29.0  27.87349         26.4  \n",
       "2023-02-15 06:34:56+00:00  0.68577  1.62607      29.0  27.71829         26.5  \n",
       "2023-02-15 06:35:13+00:00  0.71972  1.70024      29.0  27.78416         26.5  \n",
       "2023-02-15 06:35:29+00:00  0.72971  1.72201      29.0  27.97206         26.5  \n",
       "2023-02-15 06:35:45+00:00  0.79251  1.85836      29.0  27.88033         26.4  "
      ]
     },
     "execution_count": 3,
     "metadata": {},
     "output_type": "execute_result"
    }
   ],
   "source": [
    "final_df.head()"
   ]
  },
  {
   "cell_type": "code",
   "execution_count": 4,
   "id": "297f3115",
   "metadata": {},
   "outputs": [
    {
     "data": {
      "text/plain": [
       "<AxesSubplot:xlabel='created_at'>"
      ]
     },
     "execution_count": 4,
     "metadata": {},
     "output_type": "execute_result"
    },
    {
     "data": {
      "image/png": "[encoded data removed]",
      "text/plain": [
       "<Figure size 864x360 with 1 Axes>"
      ]
     },
     "metadata": {
      "needs_background": "light"
     },
     "output_type": "display_data"
    }
   ],
   "source": [
    "final_df['Temperature'].plot(figsize=(12,5))"
   ]
  },
  {
   "cell_type": "markdown",
   "id": "439d89f4",
   "metadata": {},
   "source": [
    "### Augmented Dickey Fuller Test"
   ]
  },
  {
   "cell_type": "code",
   "execution_count": 5,
   "id": "45f65d8c",
   "metadata": {},
   "outputs": [],
   "source": [
    "from pandas.tseries.offsets import DateOffset\n",
    "from pmdarima.arima import auto_arima\n",
    "from statsmodels.tsa.stattools import adfuller"
   ]
  },
  {
   "cell_type": "code",
   "execution_count": 6,
   "id": "45ba12ab",
   "metadata": {},
   "outputs": [],
   "source": [
    "def ad_test(dataset):\n",
    "    dftest = adfuller(dataset, autolag = 'AIC')\n",
    "    print(\"1. ADF : \", dftest[0])\n",
    "    print(\"2. p-value : \", dftest[1])\n",
    "    print(\"3. No. of lags : \", dftest[2])\n",
    "    print(\"4. Num of observations used for ADF regression and critical values calculation : \", dftest[3])\n",
    "    print(\"5. Critical : \")\n",
    "    for key, val in dftest[4].items():\n",
    "        print(\"\\t\", key, \":\", val)\n",
    "    "
   ]
  },
  {
   "cell_type": "code",
   "execution_count": 7,
   "id": "6d6aa847",
   "metadata": {},
   "outputs": [
    {
     "name": "stdout",
     "output_type": "stream",
     "text": [
      "1. ADF :  -3.7992037654648794\n",
      "2. p-value :  0.0029154720277323504\n",
      "3. No. of lags :  4\n",
      "4. Num of observations used for ADF regression and critical values calculation :  3101\n",
      "5. Critical : \n",
      "\t 1% : -3.4324605196236315\n",
      "\t 5% : -2.8624724958174195\n",
      "\t 10% : -2.5672663901440913\n"
     ]
    }
   ],
   "source": [
    "ad_test(final_df['Temperature'])"
   ]
  },
  {
   "cell_type": "markdown",
   "id": "2ccb246f",
   "metadata": {},
   "source": [
    "### Applying Auto ARIMA Function"
   ]
  },
  {
   "cell_type": "code",
   "execution_count": 8,
   "id": "10cbecb2",
   "metadata": {},
   "outputs": [],
   "source": [
    "from pmdarima import auto_arima\n",
    "#ignore harmless warnings\n",
    "import warnings\n",
    "warnings.filterwarnings(\"ignore\")"
   ]
  },
  {
   "cell_type": "code",
   "execution_count": 9,
   "id": "d4c65f43",
   "metadata": {},
   "outputs": [
    {
     "name": "stdout",
     "output_type": "stream",
     "text": [
      "Performing stepwise search to minimize aic\n",
      " ARIMA(2,1,2)(0,0,0)[0] intercept   : AIC=-3871.461, Time=10.39 sec\n",
      " ARIMA(0,1,0)(0,0,0)[0] intercept   : AIC=-3836.578, Time=0.82 sec\n",
      " ARIMA(1,1,0)(0,0,0)[0] intercept   : AIC=-3873.869, Time=0.52 sec\n",
      " ARIMA(0,1,1)(0,0,0)[0] intercept   : AIC=-3873.239, Time=1.00 sec\n",
      " ARIMA(0,1,0)(0,0,0)[0]             : AIC=-3838.571, Time=0.26 sec\n",
      " ARIMA(2,1,0)(0,0,0)[0] intercept   : AIC=-3871.869, Time=0.86 sec\n",
      " ARIMA(1,1,1)(0,0,0)[0] intercept   : AIC=-3871.869, Time=0.83 sec\n",
      " ARIMA(2,1,1)(0,0,0)[0] intercept   : AIC=-3869.872, Time=1.73 sec\n",
      " ARIMA(1,1,0)(0,0,0)[0]             : AIC=-3875.861, Time=0.81 sec\n",
      " ARIMA(2,1,0)(0,0,0)[0]             : AIC=-3873.861, Time=0.78 sec\n",
      " ARIMA(1,1,1)(0,0,0)[0]             : AIC=-3873.861, Time=0.77 sec\n",
      " ARIMA(0,1,1)(0,0,0)[0]             : AIC=-3875.231, Time=0.39 sec\n",
      " ARIMA(2,1,1)(0,0,0)[0]             : AIC=-3871.864, Time=0.67 sec\n",
      "\n",
      "Best model:  ARIMA(1,1,0)(0,0,0)[0]          \n",
      "Total fit time: 19.886 seconds\n"
     ]
    }
   ],
   "source": [
    "stepwise_fit = auto_arima(final_df['Temperature'], trace=True, suppress_warnings=True)"
   ]
  },
  {
   "cell_type": "code",
   "execution_count": 10,
   "id": "347b66cc",
   "metadata": {},
   "outputs": [
    {
     "data": {
      "text/html": [
       "<table class=\"simpletable\">\n",
       "<caption>SARIMAX Results</caption>\n",
       "<tr>\n",
       "  <th>Dep. Variable:</th>           <td>y</td>        <th>  No. Observations:  </th>   <td>3106</td>   \n",
       "</tr>\n",
       "<tr>\n",
       "  <th>Model:</th>           <td>SARIMAX(1, 1, 0)</td> <th>  Log Likelihood     </th> <td>1939.930</td> \n",
       "</tr>\n",
       "<tr>\n",
       "  <th>Date:</th>            <td>Mon, 20 Feb 2023</td> <th>  AIC                </th> <td>-3875.861</td>\n",
       "</tr>\n",
       "<tr>\n",
       "  <th>Time:</th>                <td>19:33:20</td>     <th>  BIC                </th> <td>-3863.779</td>\n",
       "</tr>\n",
       "<tr>\n",
       "  <th>Sample:</th>                  <td>0</td>        <th>  HQIC               </th> <td>-3871.523</td>\n",
       "</tr>\n",
       "<tr>\n",
       "  <th></th>                      <td> - 3106</td>     <th>                     </th>     <td> </td>    \n",
       "</tr>\n",
       "<tr>\n",
       "  <th>Covariance Type:</th>        <td>opg</td>       <th>                     </th>     <td> </td>    \n",
       "</tr>\n",
       "</table>\n",
       "<table class=\"simpletable\">\n",
       "<tr>\n",
       "     <td></td>       <th>coef</th>     <th>std err</th>      <th>z</th>      <th>P>|z|</th>  <th>[0.025</th>    <th>0.975]</th>  \n",
       "</tr>\n",
       "<tr>\n",
       "  <th>ar.L1</th>  <td>   -0.1122</td> <td>    0.005</td> <td>  -20.468</td> <td> 0.000</td> <td>   -0.123</td> <td>   -0.101</td>\n",
       "</tr>\n",
       "<tr>\n",
       "  <th>sigma2</th> <td>    0.0168</td> <td> 2.72e-05</td> <td>  616.507</td> <td> 0.000</td> <td>    0.017</td> <td>    0.017</td>\n",
       "</tr>\n",
       "</table>\n",
       "<table class=\"simpletable\">\n",
       "<tr>\n",
       "  <th>Ljung-Box (L1) (Q):</th>     <td>0.00</td> <th>  Jarque-Bera (JB):  </th> <td>34057355.29</td>\n",
       "</tr>\n",
       "<tr>\n",
       "  <th>Prob(Q):</th>                <td>1.00</td> <th>  Prob(JB):          </th>    <td>0.00</td>    \n",
       "</tr>\n",
       "<tr>\n",
       "  <th>Heteroskedasticity (H):</th> <td>1.39</td> <th>  Skew:              </th>    <td>14.57</td>   \n",
       "</tr>\n",
       "<tr>\n",
       "  <th>Prob(H) (two-sided):</th>    <td>0.00</td> <th>  Kurtosis:          </th>   <td>515.25</td>   \n",
       "</tr>\n",
       "</table><br/><br/>Warnings:<br/>[1] Covariance matrix calculated using the outer product of gradients (complex-step)."
      ],
      "text/plain": [
       "<class 'statsmodels.iolib.summary.Summary'>\n",
       "\"\"\"\n",
       "                               SARIMAX Results                                \n",
       "==============================================================================\n",
       "Dep. Variable:                      y   No. Observations:                 3106\n",
       "Model:               SARIMAX(1, 1, 0)   Log Likelihood                1939.930\n",
       "Date:                Mon, 20 Feb 2023   AIC                          -3875.861\n",
       "Time:                        19:33:20   BIC                          -3863.779\n",
       "Sample:                             0   HQIC                         -3871.523\n",
       "                               - 3106                                         \n",
       "Covariance Type:                  opg                                         \n",
       "==============================================================================\n",
       "                 coef    std err          z      P>|z|      [0.025      0.975]\n",
       "------------------------------------------------------------------------------\n",
       "ar.L1         -0.1122      0.005    -20.468      0.000      -0.123      -0.101\n",
       "sigma2         0.0168   2.72e-05    616.507      0.000       0.017       0.017\n",
       "===================================================================================\n",
       "Ljung-Box (L1) (Q):                   0.00   Jarque-Bera (JB):          34057355.29\n",
       "Prob(Q):                              1.00   Prob(JB):                         0.00\n",
       "Heteroskedasticity (H):               1.39   Skew:                            14.57\n",
       "Prob(H) (two-sided):                  0.00   Kurtosis:                       515.25\n",
       "===================================================================================\n",
       "\n",
       "Warnings:\n",
       "[1] Covariance matrix calculated using the outer product of gradients (complex-step).\n",
       "\"\"\""
      ]
     },
     "execution_count": 10,
     "metadata": {},
     "output_type": "execute_result"
    }
   ],
   "source": [
    "stepwise_fit.summary()"
   ]
  },
  {
   "cell_type": "markdown",
   "id": "e212cf24",
   "metadata": {},
   "source": [
    "### Splitting the dataset into train and test"
   ]
  },
  {
   "cell_type": "code",
   "execution_count": 11,
   "id": "fd187957",
   "metadata": {},
   "outputs": [
    {
     "name": "stdout",
     "output_type": "stream",
     "text": [
      "(3106, 10)\n"
     ]
    }
   ],
   "source": [
    "print(final_df.shape)"
   ]
  },
  {
   "cell_type": "code",
   "execution_count": 12,
   "id": "4c865967",
   "metadata": {},
   "outputs": [],
   "source": [
    "train=final_df.iloc[:-30]\n",
    "test=final_df.iloc[-30:]"
   ]
  },
  {
   "cell_type": "code",
   "execution_count": 13,
   "id": "23f628f8",
   "metadata": {},
   "outputs": [
    {
     "name": "stdout",
     "output_type": "stream",
     "text": [
      "(3076, 10) (30, 10)\n"
     ]
    }
   ],
   "source": [
    "print(train.shape, test.shape)"
   ]
  },
  {
   "cell_type": "markdown",
   "id": "17804d08",
   "metadata": {},
   "source": [
    "### Fitting the model"
   ]
  },
  {
   "cell_type": "code",
   "execution_count": 14,
   "id": "74b30912",
   "metadata": {},
   "outputs": [
    {
     "data": {
      "application/javascript": [
       "\n",
       "        if (window._pyforest_update_imports_cell) { window._pyforest_update_imports_cell('from statsmodels.tsa.arima_model import ARIMA'); }\n",
       "    "
      ],
      "text/plain": [
       "<IPython.core.display.Javascript object>"
      ]
     },
     "metadata": {},
     "output_type": "display_data"
    },
    {
     "data": {
      "text/html": [
       "<table class=\"simpletable\">\n",
       "<caption>ARIMA Model Results</caption>\n",
       "<tr>\n",
       "  <th>Dep. Variable:</th>   <td>D.Temperature</td>  <th>  No. Observations:  </th>   <td>3075</td>   \n",
       "</tr>\n",
       "<tr>\n",
       "  <th>Model:</th>          <td>ARIMA(1, 1, 0)</td>  <th>  Log Likelihood     </th> <td>1908.087</td> \n",
       "</tr>\n",
       "<tr>\n",
       "  <th>Method:</th>             <td>css-mle</td>     <th>  S.D. of innovations</th>   <td>0.130</td>  \n",
       "</tr>\n",
       "<tr>\n",
       "  <th>Date:</th>          <td>Mon, 20 Feb 2023</td> <th>  AIC                </th> <td>-3810.175</td>\n",
       "</tr>\n",
       "<tr>\n",
       "  <th>Time:</th>              <td>19:33:35</td>     <th>  BIC                </th> <td>-3792.081</td>\n",
       "</tr>\n",
       "<tr>\n",
       "  <th>Sample:</th>                <td>1</td>        <th>  HQIC               </th> <td>-3803.675</td>\n",
       "</tr>\n",
       "<tr>\n",
       "  <th></th>                       <td> </td>        <th>                     </th>     <td> </td>    \n",
       "</tr>\n",
       "</table>\n",
       "<table class=\"simpletable\">\n",
       "<tr>\n",
       "           <td></td>              <th>coef</th>     <th>std err</th>      <th>z</th>      <th>P>|z|</th>  <th>[0.025</th>    <th>0.975]</th>  \n",
       "</tr>\n",
       "<tr>\n",
       "  <th>const</th>               <td>    0.0002</td> <td>    0.002</td> <td>    0.075</td> <td> 0.940</td> <td>   -0.004</td> <td>    0.004</td>\n",
       "</tr>\n",
       "<tr>\n",
       "  <th>ar.L1.D.Temperature</th> <td>   -0.1115</td> <td>    0.018</td> <td>   -6.223</td> <td> 0.000</td> <td>   -0.147</td> <td>   -0.076</td>\n",
       "</tr>\n",
       "</table>\n",
       "<table class=\"simpletable\">\n",
       "<caption>Roots</caption>\n",
       "<tr>\n",
       "    <td></td>   <th>            Real</th>  <th>         Imaginary</th> <th>         Modulus</th>  <th>        Frequency</th>\n",
       "</tr>\n",
       "<tr>\n",
       "  <th>AR.1</th> <td>          -8.9680</td> <td>          +0.0000j</td> <td>           8.9680</td> <td>           0.5000</td>\n",
       "</tr>\n",
       "</table>"
      ],
      "text/plain": [
       "<class 'statsmodels.iolib.summary.Summary'>\n",
       "\"\"\"\n",
       "                             ARIMA Model Results                              \n",
       "==============================================================================\n",
       "Dep. Variable:          D.Temperature   No. Observations:                 3075\n",
       "Model:                 ARIMA(1, 1, 0)   Log Likelihood                1908.087\n",
       "Method:                       css-mle   S.D. of innovations              0.130\n",
       "Date:                Mon, 20 Feb 2023   AIC                          -3810.175\n",
       "Time:                        19:33:35   BIC                          -3792.081\n",
       "Sample:                             1   HQIC                         -3803.675\n",
       "                                                                              \n",
       "=======================================================================================\n",
       "                          coef    std err          z      P>|z|      [0.025      0.975]\n",
       "---------------------------------------------------------------------------------------\n",
       "const                   0.0002      0.002      0.075      0.940      -0.004       0.004\n",
       "ar.L1.D.Temperature    -0.1115      0.018     -6.223      0.000      -0.147      -0.076\n",
       "                                    Roots                                    \n",
       "=============================================================================\n",
       "                  Real          Imaginary           Modulus         Frequency\n",
       "-----------------------------------------------------------------------------\n",
       "AR.1           -8.9680           +0.0000j            8.9680            0.5000\n",
       "-----------------------------------------------------------------------------\n",
       "\"\"\""
      ]
     },
     "execution_count": 14,
     "metadata": {},
     "output_type": "execute_result"
    }
   ],
   "source": [
    "model = ARIMA(train['Temperature'], order=(1,1,0))\n",
    "model=model.fit()\n",
    "model.summary()"
   ]
  },
  {
   "cell_type": "markdown",
   "id": "54955574",
   "metadata": {},
   "source": [
    "### Making predictions on test"
   ]
  },
  {
   "cell_type": "code",
   "execution_count": 15,
   "id": "b74e9925",
   "metadata": {},
   "outputs": [
    {
     "name": "stdout",
     "output_type": "stream",
     "text": [
      "created_at\n",
      "2023-02-20 13:45:04+00:00    26.900177\n",
      "2023-02-20 13:45:20+00:00    26.900334\n",
      "2023-02-20 13:45:37+00:00    26.900494\n",
      "2023-02-20 13:45:53+00:00    26.900653\n",
      "2023-02-20 13:46:10+00:00    26.900813\n",
      "2023-02-20 13:46:26+00:00    26.900972\n",
      "2023-02-20 13:46:41+00:00    26.901131\n",
      "2023-02-20 13:46:58+00:00    26.901291\n",
      "2023-02-20 13:47:14+00:00    26.901450\n",
      "2023-02-20 13:47:31+00:00    26.901609\n",
      "2023-02-20 13:47:48+00:00    26.901769\n",
      "2023-02-20 13:48:03+00:00    26.901928\n",
      "2023-02-20 13:48:19+00:00    26.902087\n",
      "2023-02-20 13:48:35+00:00    26.902247\n",
      "2023-02-20 13:48:52+00:00    26.902406\n",
      "2023-02-20 13:49:08+00:00    26.902566\n",
      "2023-02-20 13:49:25+00:00    26.902725\n",
      "2023-02-20 13:49:41+00:00    26.902884\n",
      "2023-02-20 13:49:57+00:00    26.903044\n",
      "2023-02-20 13:50:15+00:00    26.903203\n",
      "2023-02-20 13:50:31+00:00    26.903362\n",
      "2023-02-20 13:50:48+00:00    26.903522\n",
      "2023-02-20 13:51:04+00:00    26.903681\n",
      "2023-02-20 13:51:20+00:00    26.903840\n",
      "2023-02-20 13:51:36+00:00    26.904000\n",
      "2023-02-20 13:51:51+00:00    26.904159\n",
      "2023-02-20 13:52:08+00:00    26.904318\n",
      "2023-02-20 13:52:24+00:00    26.904478\n",
      "2023-02-20 13:52:40+00:00    26.904637\n",
      "2023-02-20 13:52:56+00:00    26.904796\n",
      "dtype: float64\n"
     ]
    }
   ],
   "source": [
    "start = len(train)\n",
    "end = len(train) + len(test)-1\n",
    "pred=model.predict(start = start, end = end, typ='levels')\n",
    "#print(pred)\n",
    "pred.index = final_df.index[start:end+1]\n",
    "print(pred)"
   ]
  },
  {
   "cell_type": "code",
   "execution_count": 22,
   "id": "218d58cb",
   "metadata": {},
   "outputs": [
    {
     "data": {
      "text/plain": [
       "26.969999999999995"
      ]
     },
     "execution_count": 22,
     "metadata": {},
     "output_type": "execute_result"
    }
   ],
   "source": [
    "test['Temperature'].mean()"
   ]
  },
  {
   "cell_type": "code",
   "execution_count": 23,
   "id": "9cab1961",
   "metadata": {},
   "outputs": [
    {
     "name": "stdout",
     "output_type": "stream",
     "text": [
      "0.08137781515844943\n"
     ]
    }
   ],
   "source": [
    "from sklearn.metrics import mean_squared_error\n",
    "from math import sqrt\n",
    "rmse = sqrt(mean_squared_error(pred, test['Temperature']))\n",
    "print(rmse)"
   ]
  },
  {
   "cell_type": "code",
   "execution_count": 24,
   "id": "adcfc37a",
   "metadata": {},
   "outputs": [
    {
     "data": {
      "application/javascript": [
       "\n",
       "        if (window._pyforest_update_imports_cell) { window._pyforest_update_imports_cell('from statsmodels.tsa.arima_model import ARIMA'); }\n",
       "    "
      ],
      "text/plain": [
       "<IPython.core.display.Javascript object>"
      ]
     },
     "metadata": {},
     "output_type": "display_data"
    }
   ],
   "source": [
    "model2 = ARIMA(final_df['Temperature'], order=(1,1,0))"
   ]
  },
  {
   "cell_type": "code",
   "execution_count": 25,
   "id": "5a7906ee",
   "metadata": {},
   "outputs": [],
   "source": [
    "model2=model2.fit()"
   ]
  },
  {
   "cell_type": "code",
   "execution_count": 26,
   "id": "3b0aaee6",
   "metadata": {},
   "outputs": [
    {
     "data": {
      "text/html": [
       "<div>\n",
       "<style scoped>\n",
       "    .dataframe tbody tr th:only-of-type {\n",
       "        vertical-align: middle;\n",
       "    }\n",
       "\n",
       "    .dataframe tbody tr th {\n",
       "        vertical-align: top;\n",
       "    }\n",
       "\n",
       "    .dataframe thead th {\n",
       "        text-align: right;\n",
       "    }\n",
       "</style>\n",
       "<table border=\"1\" class=\"dataframe\">\n",
       "  <thead>\n",
       "    <tr style=\"text-align: right;\">\n",
       "      <th></th>\n",
       "      <th>Unnamed: 0</th>\n",
       "      <th>entry_id</th>\n",
       "      <th>CO</th>\n",
       "      <th>CO2</th>\n",
       "      <th>NH4</th>\n",
       "      <th>Toluene</th>\n",
       "      <th>Alcohol</th>\n",
       "      <th>Humidity</th>\n",
       "      <th>Noise</th>\n",
       "      <th>Temperature</th>\n",
       "    </tr>\n",
       "    <tr>\n",
       "      <th>created_at</th>\n",
       "      <th></th>\n",
       "      <th></th>\n",
       "      <th></th>\n",
       "      <th></th>\n",
       "      <th></th>\n",
       "      <th></th>\n",
       "      <th></th>\n",
       "      <th></th>\n",
       "      <th></th>\n",
       "      <th></th>\n",
       "    </tr>\n",
       "  </thead>\n",
       "  <tbody>\n",
       "    <tr>\n",
       "      <th>2023-02-20 13:51:51+00:00</th>\n",
       "      <td>3179</td>\n",
       "      <td>3180</td>\n",
       "      <td>3.89800</td>\n",
       "      <td>2.82141</td>\n",
       "      <td>4.29697</td>\n",
       "      <td>0.54384</td>\n",
       "      <td>1.31272</td>\n",
       "      <td>34.0</td>\n",
       "      <td>28.06618</td>\n",
       "      <td>26.9</td>\n",
       "    </tr>\n",
       "    <tr>\n",
       "      <th>2023-02-20 13:52:08+00:00</th>\n",
       "      <td>3180</td>\n",
       "      <td>3181</td>\n",
       "      <td>4.11463</td>\n",
       "      <td>2.93456</td>\n",
       "      <td>4.44546</td>\n",
       "      <td>0.57019</td>\n",
       "      <td>1.37135</td>\n",
       "      <td>34.0</td>\n",
       "      <td>28.03604</td>\n",
       "      <td>26.9</td>\n",
       "    </tr>\n",
       "    <tr>\n",
       "      <th>2023-02-20 13:52:24+00:00</th>\n",
       "      <td>3181</td>\n",
       "      <td>3182</td>\n",
       "      <td>3.83819</td>\n",
       "      <td>2.78988</td>\n",
       "      <td>4.25543</td>\n",
       "      <td>0.53653</td>\n",
       "      <td>1.29643</td>\n",
       "      <td>35.0</td>\n",
       "      <td>28.05615</td>\n",
       "      <td>27.0</td>\n",
       "    </tr>\n",
       "    <tr>\n",
       "      <th>2023-02-20 13:52:40+00:00</th>\n",
       "      <td>3182</td>\n",
       "      <td>3183</td>\n",
       "      <td>3.98943</td>\n",
       "      <td>2.86937</td>\n",
       "      <td>4.36000</td>\n",
       "      <td>0.55498</td>\n",
       "      <td>1.33754</td>\n",
       "      <td>35.0</td>\n",
       "      <td>28.09955</td>\n",
       "      <td>26.9</td>\n",
       "    </tr>\n",
       "    <tr>\n",
       "      <th>2023-02-20 13:52:56+00:00</th>\n",
       "      <td>3183</td>\n",
       "      <td>3184</td>\n",
       "      <td>3.98943</td>\n",
       "      <td>2.86937</td>\n",
       "      <td>4.36000</td>\n",
       "      <td>0.55498</td>\n",
       "      <td>1.33754</td>\n",
       "      <td>34.0</td>\n",
       "      <td>28.08956</td>\n",
       "      <td>27.0</td>\n",
       "    </tr>\n",
       "  </tbody>\n",
       "</table>\n",
       "</div>"
      ],
      "text/plain": [
       "                           Unnamed: 0  entry_id       CO      CO2      NH4  \\\n",
       "created_at                                                                   \n",
       "2023-02-20 13:51:51+00:00        3179      3180  3.89800  2.82141  4.29697   \n",
       "2023-02-20 13:52:08+00:00        3180      3181  4.11463  2.93456  4.44546   \n",
       "2023-02-20 13:52:24+00:00        3181      3182  3.83819  2.78988  4.25543   \n",
       "2023-02-20 13:52:40+00:00        3182      3183  3.98943  2.86937  4.36000   \n",
       "2023-02-20 13:52:56+00:00        3183      3184  3.98943  2.86937  4.36000   \n",
       "\n",
       "                           Toluene  Alcohol  Humidity     Noise  Temperature  \n",
       "created_at                                                                    \n",
       "2023-02-20 13:51:51+00:00  0.54384  1.31272      34.0  28.06618         26.9  \n",
       "2023-02-20 13:52:08+00:00  0.57019  1.37135      34.0  28.03604         26.9  \n",
       "2023-02-20 13:52:24+00:00  0.53653  1.29643      35.0  28.05615         27.0  \n",
       "2023-02-20 13:52:40+00:00  0.55498  1.33754      35.0  28.09955         26.9  \n",
       "2023-02-20 13:52:56+00:00  0.55498  1.33754      34.0  28.08956         27.0  "
      ]
     },
     "execution_count": 26,
     "metadata": {},
     "output_type": "execute_result"
    }
   ],
   "source": [
    "final_df.tail()"
   ]
  },
  {
   "cell_type": "code",
   "execution_count": 27,
   "id": "28733a54",
   "metadata": {},
   "outputs": [
    {
     "data": {
      "text/plain": [
       "<AxesSubplot:>"
      ]
     },
     "execution_count": 27,
     "metadata": {},
     "output_type": "execute_result"
    },
    {
     "data": {
      "image/png": "[encoded data removed]",
      "text/plain": [
       "<Figure size 864x360 with 1 Axes>"
      ]
     },
     "metadata": {
      "needs_background": "light"
     },
     "output_type": "display_data"
    }
   ],
   "source": [
    "index_future_dates = pd.date_range(start='2023-02-17', end = '2023-02-28')\n",
    "pred = model2.predict(start=len(final_df), end=len(final_df)+11, typ='levels').rename('ARIMA Predictions')\n",
    "pred.index = index_future_dates\n",
    "pred.plot(figsize=(12,5), legend=True)"
   ]
  }
 ],
 "metadata": {
  "colab": {
   "provenance": []
  },
  "kernelspec": {
   "display_name": "Python 3",
   "language": "python",
   "name": "python3"
  },
  "language_info": {
   "codemirror_mode": {
    "name": "ipython",
    "version": 3
   },
   "file_extension": ".py",
   "mimetype": "text/x-python",
   "name": "python",
   "nbconvert_exporter": "python",
   "pygments_lexer": "ipython3",
   "version": "3.8.8"
  },
  "papermill": {
   "default_parameters": {},
   "duration": 16.383682,
   "end_time": "2023-02-17T17:41:24.740977",
   "environment_variables": {},
   "exception": null,
   "input_path": "__notebook__.ipynb",
   "output_path": "__notebook__.ipynb",
   "parameters": {},
   "start_time": "2023-02-17T17:41:08.357295",
   "version": "2.3.4"
  }
 },
 "nbformat": 4,
 "nbformat_minor": 5
}
